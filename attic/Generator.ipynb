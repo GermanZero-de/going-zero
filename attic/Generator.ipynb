{
 "cells": [
  {
   "cell_type": "code",
   "execution_count": 1,
   "metadata": {},
   "outputs": [],
   "source": [
    "#import nbimporter\n",
    "from dataclasses import dataclass, field, InitVar, asdict, make_dataclass\n",
    "from setup import *\n",
    "# hier Sektoren Files importieren:\n",
    "from Electricity2018 import *\n",
    "from Business2018 import *\n",
    "from industry_2018 import *\n",
    "from Transport2018 import *\n",
    "from Residences2018 import *\n",
    "#from Heat2018 import *\n",
    "\n",
    "from industry_2030 import *"
   ]
  },
  {
   "cell_type": "markdown",
   "metadata": {},
   "source": [
    "### Generator class"
   ]
  },
  {
   "cell_type": "code",
   "execution_count": 2,
   "metadata": {},
   "outputs": [],
   "source": [
    "# Überordner für alle Sektoren. \n",
    "@dataclass\n",
    "class Generator:\n",
    "    # Energy Balance 2018\n",
    "    \n",
    "    # Definition der Sektoren als Klassenvariablen. (Bitte Auskommentieren, wenn fertig) \n",
    "    \n",
    "    r18: R18 = R18() #Residences\n",
    "    b18: B18 = B18() #Gewerbe Handel Dienstleisung\n",
    "    i18: I18 = I18() #Industry\n",
    "    t18: T18 = T18() #Transport\n",
    "    #a18: A18 = A18() #Agriculture\n",
    "    #f18: F18 = F18() #Fuels\n",
    "    e18: E18 = E18() #Electricity\n",
    "    #h18: H18 = H18() #Heat\n",
    "    #l18: L18 = L18() #Lulucf\n",
    "    \n",
    "    i30: I30 = I30()\n",
    "    # Erzeuge Dictionary aus Generator Objekt\n",
    "    def dict(self):\n",
    "        return asdict(self)\n",
    "    \n",
    "    # Hier werden alle fertigen Kalkulationsfunktionen pro Sektor hinzugefügt\n",
    "    def calculate(self):\n",
    "        Residence2018_calc(self)\n",
    "        Business2018_calc(self)\n",
    "        industry2018_calc(self)\n",
    "        Transport2018_calc(self)\n",
    "        Electricity2018_calc(self)\n",
    "        \n",
    "        industry2030_calc(self)\n",
    "        \n",
    "    # Berechnung im post init Konstruktor\n",
    "    def __post_init__(self):\n",
    "        self.calculate()\n",
    " "
   ]
  },
  {
   "cell_type": "markdown",
   "metadata": {},
   "source": [
    "### Schnittstellen zum Web"
   ]
  },
  {
   "cell_type": "code",
   "execution_count": 3,
   "metadata": {},
   "outputs": [
    {
     "name": "stdout",
     "output_type": "stream",
     "text": [
      "could not find Fakt_S_Strompreis_Haushalte\n",
      "could not find Fakt_S_Strompreis_Haushalte\n",
      "could not find Annahmen!D57\n",
      "could not find Fact_R_S_ratio_heatpumps_to_other_energy_2018\n",
      "could not find Fact_R_S_ratio_heatpumps_to_other_energy_2018\n",
      "could not find Annahme_W_Anteil_komm_NWG\n",
      "could not find Annahme_W_Anteil_komm_NWG\n",
      "could not find Fakt_S_Strompreis_Haushalte\n",
      "could not find Fakt_S_Strompreis_Haushalte\n",
      "could not find Einsparung Strom durch Suffienz  (% pro Jahr); GHD\n",
      "Transport: \n",
      "can't multiply sequence by non-int of type 'float'\n",
      "could not find Fakt_A_ETS_CO2_Preis\n",
      "could not find Fakt_A_ETS_CO2_Preis\n",
      "could not find Fakt_S_Kohlekraftwerk_Volllaststunden\n",
      "could not find Fakt_A_ETS_CO2_Preis\n",
      "could not find Fact_E_P_cb_EF_ofossil\n",
      "could not find Fakt_A_ETS_CO2_Preis\n",
      "could not find In_E_full_load_h_PV\n",
      "could not find In_E_full_load_h_PV\n",
      "float division by zero\n",
      "could not find Annahme_I_N_metallh_Faktor_CO2e_eb_Einsatz_Primaerroute_2030\n",
      "could not find Fact_I_P_metal_nonfe_prodvol_change_pa\n",
      "could not find Ass_I_P_other_paper_prodvol_change\n",
      "could not find Ass_I_P_other_paper_ratio_fec_elec_to_prodvol_2050\n",
      "could not find Ass_I_P_other_paper_ratio_fec_heatnet_to_prodvol_2050\n",
      "could not find Ass_I_P_other_paper_ratio_CO2e_cb_to_prodvol_2050\n",
      "could not find Ass_I_P_other_paper_varel_ratio_invest_to_prodvol_2019\n",
      "could not find Ass_I_P_other_food_prodvol_change\n",
      "could not find Ass_I_P_other_food_ratio_fec_elec_to_prodvol_2050\n",
      "could not find Ass_I_P_other_food_ratio_fec_heatnet_to_prodvol_2050\n",
      "could not find Ass_I_P_other_food_ratio_CO2e_cb_to_prodvol_2050\n",
      "could not find Ass_I_P_other_further_prodvol_2050\n",
      "could not find Ass_I_P_other_further_fec_change\n",
      "could not find Ass_I_P_other_further_fec_pct_of_elec_2050\n",
      "could not find Ass_I_P_other_further_fec_pct_of_heatnet_2050\n",
      "could not find Ass_I_P_other_further_fec_pct_of_gas_2050\n",
      "could not find Ass_I_P_other_2d_ratio_of_CO2e_pb_to_fec_2050\n",
      "could not find Ass_I_P_other_further_ratio_of_CO2e_cb_to_fec_2050\n",
      "could not find Ass_I_P_other_2efgh_ratio_of_CO2e_pb_to_fec_2050\n"
     ]
    }
   ],
   "source": [
    "# erzeuge Generator Objekt\n",
    "g = Generator()"
   ]
  },
  {
   "cell_type": "code",
   "execution_count": 4,
   "metadata": {},
   "outputs": [
    {
     "name": "stdout",
     "output_type": "stream",
     "text": [
      "{'g': {'energy': None, 'cost_fuel_per_MWh': None, 'cost_fuel': None, 'pct_energy': None, 'mro_per_MWh': None, 'mro': None, 'CO2e_cb_per_MWh': None, 'CO2e_cb': None, 'cost_certificate_per_MWh': None, 'cost_certificate': None}, 'd': {'energy': 210.0, 'cost_fuel_per_MWh': None, 'cost_fuel': 0.0405804, 'pct_energy': None, 'mro_per_MWh': None, 'mro': None, 'CO2e_cb_per_MWh': None, 'CO2e_cb': None, 'cost_certificate_per_MWh': None, 'cost_certificate': None}, 'd_r': {'energy': 42.0, 'cost_fuel_per_MWh': 298.8, 'cost_fuel': 0.012549600000000001, 'pct_energy': None, 'mro_per_MWh': None, 'mro': None, 'CO2e_cb_per_MWh': None, 'CO2e_cb': None, 'cost_certificate_per_MWh': None, 'cost_certificate': None}, 'd_b': {'energy': 42.0, 'cost_fuel_per_MWh': 215.6, 'cost_fuel': 0.0090552, 'pct_energy': None, 'mro_per_MWh': None, 'mro': None, 'CO2e_cb_per_MWh': None, 'CO2e_cb': None, 'cost_certificate_per_MWh': None, 'cost_certificate': None}, 'd_i': {'energy': 42.0, 'cost_fuel_per_MWh': 153.0, 'cost_fuel': 0.006426, 'pct_energy': None, 'mro_per_MWh': None, 'mro': None, 'CO2e_cb_per_MWh': None, 'CO2e_cb': None, 'cost_certificate_per_MWh': None, 'cost_certificate': None}, 'd_t': {'energy': 42.0, 'cost_fuel_per_MWh': 298.8, 'cost_fuel': 0.012549600000000001, 'pct_energy': None, 'mro_per_MWh': None, 'mro': None, 'CO2e_cb_per_MWh': None, 'CO2e_cb': None, 'cost_certificate_per_MWh': None, 'cost_certificate': None}, 'd_a': {'energy': 42.0, 'cost_fuel_per_MWh': None, 'cost_fuel': None, 'pct_energy': None, 'mro_per_MWh': None, 'mro': None, 'CO2e_cb_per_MWh': None, 'CO2e_cb': None, 'cost_certificate_per_MWh': None, 'cost_certificate': None}, 'd_f_hydrogen': {'energy': None, 'cost_fuel_per_MWh': None, 'cost_fuel': None, 'pct_energy': None, 'mro_per_MWh': None, 'mro': None, 'CO2e_cb_per_MWh': None, 'CO2e_cb': None, 'cost_certificate_per_MWh': None, 'cost_certificate': None}, 'd_e_hydrogen': {'energy': None, 'cost_fuel_per_MWh': None, 'cost_fuel': None, 'pct_energy': None, 'mro_per_MWh': None, 'mro': None, 'CO2e_cb_per_MWh': None, 'CO2e_cb': None, 'cost_certificate_per_MWh': None, 'cost_certificate': None}, 'd_e_hydrogen_local': {'energy': None, 'cost_fuel_per_MWh': None, 'cost_fuel': None, 'pct_energy': None, 'mro_per_MWh': None, 'mro': None, 'CO2e_cb_per_MWh': None, 'CO2e_cb': None, 'cost_certificate_per_MWh': None, 'cost_certificate': None}, 'p': {'energy': 0.0, 'cost_fuel_per_MWh': None, 'cost_fuel': None, 'pct_energy': None, 'mro_per_MWh': None, 'mro': None, 'CO2e_cb_per_MWh': None, 'CO2e_cb': None, 'cost_certificate_per_MWh': None, 'cost_certificate': None}, 'p_fossil': {'energy': 0.0, 'cost_fuel_per_MWh': None, 'cost_fuel': None, 'pct_energy': 0.0, 'mro_per_MWh': None, 'mro': None, 'CO2e_cb_per_MWh': None, 'CO2e_cb': None, 'cost_certificate_per_MWh': None, 'cost_certificate': None}, 'p_fossil_nuclear': {'energy': 0.0, 'cost_fuel_per_MWh': 21.73913043478261, 'cost_fuel': 0.0, 'pct_energy': 0.119, 'mro_per_MWh': 5.333333333333333, 'mro': 0.0, 'CO2e_cb_per_MWh': None, 'CO2e_cb': None, 'cost_certificate_per_MWh': None, 'cost_certificate': None}, 'p_fossil_coal_brown': {'energy': 0.0, 'cost_fuel_per_MWh': 11.904761904761905, 'cost_fuel': 0.0, 'pct_energy': 0.228, 'mro_per_MWh': 7.8, 'mro': 0.0, 'CO2e_cb_per_MWh': 1.00553, 'CO2e_cb': 0.0, 'cost_certificate_per_MWh': 42232.26, 'cost_certificate': 0.0}, 'p_fossil_coal_brown_cogen': {'energy': 0.0, 'cost_fuel_per_MWh': None, 'cost_fuel': None, 'pct_energy': 0.057638835, 'mro_per_MWh': None, 'mro': None, 'CO2e_cb_per_MWh': None, 'CO2e_cb': None, 'cost_certificate_per_MWh': None, 'cost_certificate': None}, 'p_fossil_coal_black': {'energy': 0.0, 'cost_fuel_per_MWh': 20.0, 'cost_fuel': 0.0, 'pct_energy': 0.13, 'mro_per_MWh': 845.2380952380952, 'mro': 0.0, 'CO2e_cb_per_MWh': 0.74529, 'CO2e_cb': 0.0, 'cost_certificate_per_MWh': 31302.18, 'cost_certificate': 0.0}, 'p_fossil_coal_black_cogen': {'energy': 0.0, 'cost_fuel_per_MWh': None, 'cost_fuel': None, 'pct_energy': 0.33909819, 'mro_per_MWh': None, 'mro': None, 'CO2e_cb_per_MWh': None, 'CO2e_cb': None, 'cost_certificate_per_MWh': None, 'cost_certificate': None}, 'p_fossil_gas': {'energy': 0.0, 'cost_fuel_per_MWh': 40.51724137931035, 'cost_fuel': 0.0, 'pct_energy': 0.129, 'mro_per_MWh': 12.923076923076923, 'mro': 0.0, 'CO2e_cb_per_MWh': 0.36585, 'CO2e_cb': 0.0, 'cost_certificate_per_MWh': 15365.7, 'cost_certificate': 0.0}, 'p_fossil_gas_cogen': {'energy': 0.0, 'cost_fuel_per_MWh': None, 'cost_fuel': None, 'pct_energy': 0.4964710958, 'mro_per_MWh': None, 'mro': None, 'CO2e_cb_per_MWh': None, 'CO2e_cb': None, 'cost_certificate_per_MWh': None, 'cost_certificate': None}, 'p_fossil_ofossil': {'energy': 0.0, 'cost_fuel_per_MWh': 11.904761904761905, 'cost_fuel': 0.0, 'pct_energy': 0.04, 'mro_per_MWh': 10.923076923076923, 'mro': 0.0, 'CO2e_cb_per_MWh': 1.12252, 'CO2e_cb': 0.0, 'cost_certificate_per_MWh': 1764000.0, 'cost_certificate': 0.0}, 'p_fossil_ofossil_cogen': {'energy': 0.0, 'cost_fuel_per_MWh': None, 'cost_fuel': None, 'pct_energy': 0.3992401331, 'mro_per_MWh': None, 'mro': None, 'CO2e_cb_per_MWh': None, 'CO2e_cb': None, 'cost_certificate_per_MWh': None, 'cost_certificate': None}, 'p_renew': {'energy': 0.0, 'cost_fuel_per_MWh': None, 'cost_fuel': None, 'pct_energy': None, 'mro_per_MWh': None, 'mro': None, 'CO2e_cb_per_MWh': None, 'CO2e_cb': None, 'cost_certificate_per_MWh': None, 'cost_certificate': None}, 'p_renew_pv': {'energy': 0.0, 'cost_fuel_per_MWh': None, 'cost_fuel': None, 'pct_energy': 0.073, 'mro_per_MWh': None, 'mro': 0.0, 'CO2e_cb_per_MWh': None, 'CO2e_cb': None, 'cost_certificate_per_MWh': None, 'cost_certificate': None}, 'p_renew_pv_roof': {'energy': 0.0, 'cost_fuel_per_MWh': None, 'cost_fuel': None, 'pct_energy': 0.732, 'mro_per_MWh': 400.0, 'mro': 0.0, 'CO2e_cb_per_MWh': None, 'CO2e_cb': None, 'cost_certificate_per_MWh': None, 'cost_certificate': None}, 'p_renew_pv_facade': {'energy': 0.0, 'cost_fuel_per_MWh': None, 'cost_fuel': None, 'pct_energy': 0.0065, 'mro_per_MWh': 100.0, 'mro': 0.0, 'CO2e_cb_per_MWh': None, 'CO2e_cb': None, 'cost_certificate_per_MWh': None, 'cost_certificate': None}, 'p_renew_pv_park': {'energy': 0.0, 'cost_fuel_per_MWh': None, 'cost_fuel': None, 'pct_energy': 0.255, 'mro_per_MWh': 285.7142857142857, 'mro': 0.0, 'CO2e_cb_per_MWh': None, 'CO2e_cb': None, 'cost_certificate_per_MWh': None, 'cost_certificate': None}, 'p_renew_pv_agri': {'energy': 0.0, 'cost_fuel_per_MWh': None, 'cost_fuel': None, 'pct_energy': 0.0065, 'mro_per_MWh': 616.1904761904761, 'mro': 0.0, 'CO2e_cb_per_MWh': None, 'CO2e_cb': None, 'cost_certificate_per_MWh': None, 'cost_certificate': None}, 'p_renew_wind': {'energy': 0.0, 'cost_fuel_per_MWh': None, 'cost_fuel': None, 'pct_energy': 0.173, 'mro_per_MWh': None, 'mro': 0.0, 'CO2e_cb_per_MWh': None, 'CO2e_cb': None, 'cost_certificate_per_MWh': None, 'cost_certificate': None}, 'p_renew_wind_onshore': {'energy': 0.0, 'cost_fuel_per_MWh': None, 'cost_fuel': None, 'pct_energy': 0.142, 'mro_per_MWh': 24.989628938547177, 'mro': 0.0, 'CO2e_cb_per_MWh': None, 'CO2e_cb': None, 'cost_certificate_per_MWh': None, 'cost_certificate': None}, 'p_renew_wind_offshore': {'energy': 0.0, 'cost_fuel_per_MWh': None, 'cost_fuel': None, 'pct_energy': 0.031, 'mro_per_MWh': 32.792617021276484, 'mro': 0.0, 'CO2e_cb_per_MWh': None, 'CO2e_cb': None, 'cost_certificate_per_MWh': None, 'cost_certificate': None}, 'p_renew_biomass': {'energy': 0.0, 'cost_fuel_per_MWh': 75.75, 'cost_fuel': 0.0, 'pct_energy': 0.08, 'mro_per_MWh': 18.92, 'mro': 0.0, 'CO2e_cb_per_MWh': None, 'CO2e_cb': 0.0, 'cost_certificate_per_MWh': None, 'cost_certificate': None}, 'p_renew_biomass_waste': {'energy': 0.0, 'cost_fuel_per_MWh': None, 'cost_fuel': None, 'pct_energy': 0.01, 'mro_per_MWh': None, 'mro': None, 'CO2e_cb_per_MWh': 0.00475, 'CO2e_cb': 0.0, 'cost_certificate_per_MWh': None, 'cost_certificate': None}, 'p_renew_biomass_solid': {'energy': 0.0, 'cost_fuel_per_MWh': None, 'cost_fuel': None, 'pct_energy': 0.018, 'mro_per_MWh': None, 'mro': None, 'CO2e_cb_per_MWh': 0.0122, 'CO2e_cb': 0.0, 'cost_certificate_per_MWh': None, 'cost_certificate': None}, 'p_renew_biomass_gaseous': {'energy': 0.0, 'cost_fuel_per_MWh': None, 'cost_fuel': None, 'pct_energy': 0.052, 'mro_per_MWh': None, 'mro': None, 'CO2e_cb_per_MWh': 0.1003, 'CO2e_cb': 0.0, 'cost_certificate_per_MWh': None, 'cost_certificate': None}, 'p_renew_biomass_cogen': {'energy': 0.0, 'cost_fuel_per_MWh': None, 'cost_fuel': None, 'pct_energy': 0.2973507241, 'mro_per_MWh': None, 'mro': None, 'CO2e_cb_per_MWh': 0.0685327, 'CO2e_cb': 0.0, 'cost_certificate_per_MWh': None, 'cost_certificate': None}, 'p_renew_geoth': {'energy': 0.0, 'cost_fuel_per_MWh': None, 'cost_fuel': None, 'pct_energy': 0.0003, 'mro_per_MWh': 18.0, 'mro': 0.0, 'CO2e_cb_per_MWh': None, 'CO2e_cb': None, 'cost_certificate_per_MWh': None, 'cost_certificate': None}, 'p_renew_hydro': {'energy': 0.0, 'cost_fuel_per_MWh': None, 'cost_fuel': None, 'pct_energy': 0.028, 'mro_per_MWh': 23.8, 'mro': None, 'CO2e_cb_per_MWh': None, 'CO2e_cb': None, 'cost_certificate_per_MWh': None, 'cost_certificate': None}, 'p_renew_geoth_local': {'energy': None, 'cost_fuel_per_MWh': None, 'cost_fuel': None, 'pct_energy': None, 'mro_per_MWh': None, 'mro': None, 'CO2e_cb_per_MWh': None, 'CO2e_cb': None, 'cost_certificate_per_MWh': None, 'cost_certificate': None}, 'p_renew_hydro_local': {'energy': None, 'cost_fuel_per_MWh': None, 'cost_fuel': None, 'pct_energy': None, 'mro_per_MWh': None, 'mro': None, 'CO2e_cb_per_MWh': None, 'CO2e_cb': None, 'cost_certificate_per_MWh': None, 'cost_certificate': None}}\n"
     ]
    }
   ],
   "source": [
    "# erzeuge vollständiges dictionary\n",
    "dg = g.dict()\n",
    "\n",
    "#erzeuge dictionary für E-Sektor\n",
    "de = g.e18.dict()\n",
    "print(de)"
   ]
  },
  {
   "cell_type": "code",
   "execution_count": 5,
   "metadata": {},
   "outputs": [],
   "source": [
    "# erzeuge json file aus dictionary\n",
    "import json\n",
    "with open('Generator.json', 'w') as fp:\n",
    "    json.dump(g.dict(), fp,  indent=4)\n",
    "fp.close()"
   ]
  },
  {
   "cell_type": "code",
   "execution_count": null,
   "metadata": {},
   "outputs": [],
   "source": []
  },
  {
   "cell_type": "code",
   "execution_count": null,
   "metadata": {},
   "outputs": [],
   "source": []
  }
 ],
 "metadata": {
  "interpreter": {
   "hash": "21fe85b299aee66c068894b636873e9f39a8c8ac5c03b25fe830b336563c4d4e"
  },
  "kernelspec": {
   "display_name": "Python 3",
   "language": "python",
   "name": "python3"
  },
  "language_info": {
   "codemirror_mode": {
    "name": "ipython",
    "version": 3
   },
   "file_extension": ".py",
   "mimetype": "text/x-python",
   "name": "python",
   "nbconvert_exporter": "python",
   "pygments_lexer": "ipython3",
   "version": "3.8.5"
  }
 },
 "nbformat": 4,
 "nbformat_minor": 4
}
