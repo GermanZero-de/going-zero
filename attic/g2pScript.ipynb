{
 "cells": [
  {
   "cell_type": "markdown",
   "id": "f706b69d",
   "metadata": {},
   "source": [
    "This is an empty python script for the g2p project."
   ]
  },
  {
   "cell_type": "markdown",
   "id": "3bd5c5fc",
   "metadata": {},
   "source": [
    "Import Namesliste (Zugriff über name['Fakt']):\n",
    "\n",
    "to Do: Wir brauchen hier am besten noch eine Erkennung von Datentypen, die dann enstprechend gecastet werden können. Floats sind so aktuell noch Strings."
   ]
  },
  {
   "cell_type": "code",
   "execution_count": 1,
   "id": "2f4cc54d",
   "metadata": {},
   "outputs": [],
   "source": [
    "import openpyxl\n",
    "filename='data/namelist.xlsx'\n",
    "wb=openpyxl.load_workbook(filename,data_only=True)\n",
    "ws=wb['Tabelle1']\n",
    "name = dict()\n",
    "for row in ws.rows:\n",
    "    name[row[0].value] = row[1].value "
   ]
  },
  {
   "cell_type": "code",
   "execution_count": 30,
   "id": "5c9b0921",
   "metadata": {},
   "outputs": [
    {
     "data": {
      "text/plain": [
       "10640000"
      ]
     },
     "execution_count": 30,
     "metadata": {},
     "output_type": "execute_result"
    }
   ],
   "source": [
    "name['Fact_I_P_metal_nonfe_fec_2035']"
   ]
  },
  {
   "cell_type": "markdown",
   "id": "9362d8e6",
   "metadata": {},
   "source": [
    "Import ags Tabellen and get functions"
   ]
  },
  {
   "cell_type": "code",
   "execution_count": 4,
   "id": "c7ab2d47",
   "metadata": {
    "ExecuteTime": {
     "end_time": "2021-07-16T10:16:18.382254Z",
     "start_time": "2021-07-16T10:16:18.341365Z"
    }
   },
   "outputs": [],
   "source": [
    "import pandas as pd\n",
    "\n",
    "raumtypen=pd.read_pickle('data/Raumtypen.pki')\n",
    "wohnungen=pd.read_pickle('data/Wohnungen.pki')\n",
    "einwohner=pd.read_pickle('data/Einwohner.pki')\n",
    "\n",
    "def get_raumtyp(inVal,output='RegioStaR7',inputType='ags'):\n",
    "    pop=raumtypen[raumtypen[inputType]==inVal][output]\n",
    "    return pop.values[0]\n",
    "\n",
    "def get_wohnung(inVal,output,inputType='ags'):\n",
    "    pop=wohnungen[wohnungen[inputType]==inVal][output]\n",
    "    return pop.values[0]\n",
    "\n",
    "def get_einwohner(inVal,output,inputType='ags'):\n",
    "    pop=einwohner[einwohner[inputType]==inVal][output]\n",
    "    return pop.values[0]\n",
    "\n",
    "#display(raumtypen)\n",
    "#display(wohnungen)\n",
    "#display(einwohner)\n"
   ]
  },
  {
   "cell_type": "markdown",
   "id": "e049f415",
   "metadata": {},
   "source": [
    "Import Fakten"
   ]
  },
  {
   "cell_type": "code",
   "execution_count": 2,
   "id": "ac14da6b",
   "metadata": {
    "ExecuteTime": {
     "end_time": "2021-07-16T10:08:39.372503Z",
     "start_time": "2021-07-16T10:08:39.360537Z"
    }
   },
   "outputs": [],
   "source": [
    "import pandas as pd\n",
    "facts = pd.read_pickle(\"data/facts.pki\")\n",
    "\n",
    "def fact(keyname):\n",
    "    return facts[facts['name']==keyname]['value'].values[0]\n",
    "\n",
    "#display(facts)"
   ]
  },
  {
   "cell_type": "markdown",
   "id": "f24ae1db",
   "metadata": {},
   "source": [
    "Bilanz 2018"
   ]
  },
  {
   "cell_type": "markdown",
   "id": "bd96dcc4",
   "metadata": {},
   "source": [
    "Haushalte"
   ]
  },
  {
   "cell_type": "markdown",
   "id": "8ed2af71",
   "metadata": {},
   "source": [
    "GHD"
   ]
  },
  {
   "cell_type": "markdown",
   "id": "2cb56dc7",
   "metadata": {},
   "source": [
    "Industrie"
   ]
  },
  {
   "cell_type": "code",
   "execution_count": null,
   "id": "dac85574",
   "metadata": {},
   "outputs": [],
   "source": []
  },
  {
   "cell_type": "markdown",
   "id": "09338acf",
   "metadata": {},
   "source": [
    "Verkehr"
   ]
  },
  {
   "cell_type": "markdown",
   "id": "4def0b91",
   "metadata": {},
   "source": [
    "Landwirtschaft"
   ]
  },
  {
   "cell_type": "markdown",
   "id": "601f0693",
   "metadata": {},
   "source": [
    "LULUCF"
   ]
  },
  {
   "cell_type": "markdown",
   "id": "5f74f95d",
   "metadata": {},
   "source": [
    "Abfallwirtschaft & Sonstiges"
   ]
  },
  {
   "cell_type": "markdown",
   "id": "8a137558",
   "metadata": {},
   "source": [
    "Strom"
   ]
  },
  {
   "cell_type": "markdown",
   "id": "416c0a50",
   "metadata": {},
   "source": [
    "Kraftstoffe"
   ]
  },
  {
   "cell_type": "markdown",
   "id": "a840c9d8",
   "metadata": {},
   "source": [
    "Wärme"
   ]
  },
  {
   "cell_type": "markdown",
   "id": "4b3363ad",
   "metadata": {},
   "source": [
    "Bilanz 203x"
   ]
  },
  {
   "cell_type": "markdown",
   "id": "5be9f0b3",
   "metadata": {},
   "source": [
    "Haushalte"
   ]
  },
  {
   "cell_type": "markdown",
   "id": "aec17739",
   "metadata": {},
   "source": [
    "GHD"
   ]
  },
  {
   "cell_type": "markdown",
   "id": "3918b0cf",
   "metadata": {},
   "source": [
    "Industrie"
   ]
  },
  {
   "cell_type": "markdown",
   "id": "cc9ec8cc",
   "metadata": {},
   "source": [
    "Verkehr"
   ]
  },
  {
   "cell_type": "markdown",
   "id": "6097221c",
   "metadata": {},
   "source": [
    "Landwirtschaft"
   ]
  },
  {
   "cell_type": "markdown",
   "id": "51b56098",
   "metadata": {},
   "source": [
    "LULUCF"
   ]
  },
  {
   "cell_type": "markdown",
   "id": "220d41e1",
   "metadata": {},
   "source": [
    "Abfallwirtschaft & Sonstiges"
   ]
  },
  {
   "cell_type": "markdown",
   "id": "89d89436",
   "metadata": {},
   "source": [
    "Strom"
   ]
  },
  {
   "cell_type": "markdown",
   "id": "7ae88b9b",
   "metadata": {},
   "source": [
    "Kraftstoffe"
   ]
  },
  {
   "cell_type": "markdown",
   "id": "e4ad20e9",
   "metadata": {},
   "source": [
    "Wärme"
   ]
  },
  {
   "cell_type": "code",
   "execution_count": null,
   "id": "55b6517c",
   "metadata": {},
   "outputs": [],
   "source": []
  }
 ],
 "metadata": {
  "kernelspec": {
   "display_name": "Python 3",
   "language": "python",
   "name": "python3"
  },
  "language_info": {
   "codemirror_mode": {
    "name": "ipython",
    "version": 3
   },
   "file_extension": ".py",
   "mimetype": "text/x-python",
   "name": "python",
   "nbconvert_exporter": "python",
   "pygments_lexer": "ipython3",
   "version": "3.8.8"
  },
  "varInspector": {
   "cols": {
    "lenName": 16,
    "lenType": 16,
    "lenVar": 40
   },
   "kernels_config": {
    "python": {
     "delete_cmd_postfix": "",
     "delete_cmd_prefix": "del ",
     "library": "var_list.py",
     "varRefreshCmd": "print(var_dic_list())"
    },
    "r": {
     "delete_cmd_postfix": ") ",
     "delete_cmd_prefix": "rm(",
     "library": "var_list.r",
     "varRefreshCmd": "cat(var_dic_list()) "
    }
   },
   "types_to_exclude": [
    "module",
    "function",
    "builtin_function_or_method",
    "instance",
    "_Feature"
   ],
   "window_display": false
  }
 },
 "nbformat": 4,
 "nbformat_minor": 5
}
