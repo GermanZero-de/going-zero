{
 "cells": [
  {
   "cell_type": "code",
   "execution_count": 1,
   "id": "9d86a95b",
   "metadata": {
    "ExecuteTime": {
     "end_time": "2021-10-05T20:09:18.004191Z",
     "start_time": "2021-10-05T20:09:12.556192Z"
    }
   },
   "outputs": [],
   "source": [
    "from setup import *"
   ]
  },
  {
   "cell_type": "code",
   "execution_count": null,
   "id": "2aa0c99a",
   "metadata": {},
   "outputs": [],
   "source": [
    "#  Definition der relevanten Spaltennamen für den Sektor F (18)\n",
    "@dataclass\n",
    "class FColVars: \n",
    "    \n",
    "    energy:float = None\n",
    "    CO2e_pb:float = None\n",
    "    CO2e_pb_per_MWh:float = None\n",
    "    CO2e_total:float = None"
   ]
  },
  {
   "cell_type": "code",
   "execution_count": null,
   "id": "4d6d00d5",
   "metadata": {},
   "outputs": [],
   "source": [
    "@dataclass\n",
    "class F18:\n",
    "    g_d: FColVars = FColVars()\n",
    "    g_r: FColVars = FColVars()\n",
    "    g_b: FColVars = FColVars()\n",
    "    g_i: FColVars = FColVars()\n",
    "    g_t: FColVars = FColVars()\n",
    "    g_a: FColVars = FColVars()\n",
    "    \n",
    "    p: FColVars = FColVars()\n",
    "    p_petrol: FColVars = FColVars()\n",
    "    p_jetfuel: FColVars = FColVars()\n",
    "    p_diesel: FColVars = FColVars()\n",
    "    p_bioethanol: FColVars = FColVars()\n",
    "    p_biodiesel: FColVars = FColVars()\n",
    "    p_biogas: FColVars = FColVars()\n",
    "    p_emethan: FColVars = FColVars()\n",
    "    p_hydrogen: FColVars = FColVars()\n",
    "    p_hydrogen_reconv: FColVars = FColVars()\n",
    "\n",
    "    \n",
    "    # erzeuge dictionry\n",
    "    def dict(self):\n",
    "        return asdict(self)"
   ]
  },
  {
   "cell_type": "code",
   "execution_count": null,
   "id": "d7660b29",
   "metadata": {},
   "outputs": [],
   "source": [
    "# Berechnungsfunktion Fuels 2018\n",
    "\n",
    "@dataclass\n",
    "class Fuels2018_calc(root): \n",
    "    try:\n",
    "        f = root.f18       \n",
    "#------------------------------------------------        \n",
    "        f.g_r.energy= entry(\"In_R_petrol_fec\")     \n",
    "        f.g_b.energy= entry(\"In_B_petrol_fec\")+entry(\"In_B_diesel_fec\")+entry(\"In_B_jetfuel_fec\")\n",
    "        f.g_i.energy= entry(\"In_I_diesel_fec\")\n",
    "        f.g_t.energy= root.t18.s_petrol.energy+root.t18.s_jetfuel.energy+root.t18.s_diesel.energy+root.t18.s_biogas.energy+root.t18.s_bioethanol.energy+root.t18.s_biodiesel.energy\n",
    "        f.g_a.energy= entry(\"In_A_petrol_fec\")+entry(\"In_A_diesel_fec\")\n",
    "        \n",
    "        f.g_d.energy= f.g_r.energy+f.g_b.energy+f.g_i.energy+f.g_t.energy+f.g_a.energy\n",
    "\n",
    "        \n",
    "        f.p_petrol.energy = entry(\"In_R_petrol_fec\")+ entry(\"In_B_petrol_fec\")+ entry(\"In_A_petrol_fec\")+ root.t18.s_petrol.energy        \n",
    "        f.p_jetfuel.energy = entry(\"In_B_jetfuel_fec\")+ root.t18.s_jetfuel.energy\n",
    "        f.p_diesel.energy = entry(\"In_B_diesel_fec\")+ entry(\"In_I_diesel_fec\") + root.t18.s_diesel.energy + entry(\"In_A_diesel_fec\")\n",
    "        f.p_bioethanol.energy = root.t18.s_bioethanol.energy\n",
    "        f.p_biodiesel.energy = root.t18.s_biodiesel.energy    \n",
    "        f.p_biogas.energy = root.t18.s_biogas.energy\n",
    "        \n",
    "        f.p.energy = f.p_petrol.energy + f.p_jetfuel.energy + f.p_diesel.energy+ f.p_bioethanol.energy+ f.p_biodiesel.energy+ f.p_biogas.energy\n",
    "#------------------------------------       \n",
    "        f.p_petrol.CO2e_pb_per_MWh = fact(\"Fact_F_P_petrol_ratio_CO2e_cb_to_fec_2018\")        \n",
    "        f.p_jetfuel.CO2e_pb_per_MWh = fact(\"Fact_F_P_jetfuel_ratio_CO2e_cb_to_fec_2018\")    \n",
    "        f.p_diesel.CO2e_pb_per_MWh = fact(\"Fact_F_P_diesel_ratio_CO2e_cb_to_fec_2018\")    \n",
    "        f.p_bioethanol.CO2e_pb_per_MWh = fact(\"Fact_H_P_petrol_ratio_CO2e_cb_to_fec_2018\")    \n",
    "        f.p_biodiesel.CO2e_pb_per_MWh = fact(\"Fact_H_P_petrol_ratio_CO2e_cb_to_fec_2018\")  \n",
    "        f.p_biogas.CO2e_pb_per_MWh = fact(\"Fact_H_P_petrol_ratio_CO2e_cb_to_fec_2018\")\n",
    "#-------------------------------------\n",
    "        f.p_petrol.CO2e_pb = f.p_petrol.CO2e_pb_per_MWh * f.p_petrol.energy       \n",
    "        f.p_jetfuel.CO2e_pb = f.p_jetfuel.CO2e_pb_per_MWh * f.p_jetfuel.energy   \n",
    "        f.p_diesel.CO2e_pb = f.p_diesel.CO2e_pb_per_MWh * f.p_diesel.energy    \n",
    "        f.p_bioethanol.CO2e_pb = f.p_bioethanol.CO2e_pb_per_MWh * f.p_bioethanol.energy    \n",
    "        f.p_biodiesel.CO2e_pb = f.p_biodiesel.CO2e_pb_per_MWh * f.p_biodiesel.energy \n",
    "        f.p_biogas.CO2e_pb = f.p_biogas.CO2e_pb_per_MWh * f.p_biogas.energy\n",
    "        \n",
    "        f.p.CO2e_pb = f.p_petrol.CO2e_pb + f.p_jetfuel.CO2e_pb + f.p_diesel.CO2e_pb+  f.p_bioethanol.CO2e_pb+ f.p_biodiesel.CO2e_pb+ f.p_biogas.CO2e_pb\n",
    "#--------------------------------------\n",
    "        f.p_petrol.CO2e_total = f.p_petrol.CO2e_pb\n",
    "        f.p_jetfuel.CO2e_total = f.p_jetfuel.CO2e_pb\n",
    "        f.p_diesel.CO2e_total = f.p_diesel.CO2e_pb\n",
    "        f.p_bioethanol.CO2e_total =  f.p_bioethanol.CO2e_pb  \n",
    "        f.p_biodiesel.CO2e_total = f.p_biodiesel.CO2e_pb\n",
    "        f.p_biogas.CO2e_total = f.p_biogas.CO2e_pb\n",
    "        \n",
    "        f.p.CO2e_total = f.p_petrol.CO2e_total + f.p_jetfuel.CO2e_total + f.p_diesel.CO2e_total +  f.p_bioethanol.CO2e_total + f.p_biodiesel.CO2e_total + f.p_biogas.CO2e_total\n",
    "                        "
   ]
  }
 ],
 "metadata": {
  "kernelspec": {
   "display_name": "Python 3",
   "language": "python",
   "name": "python3"
  },
  "language_info": {
   "codemirror_mode": {
    "name": "ipython",
    "version": 3
   },
   "file_extension": ".py",
   "mimetype": "text/x-python",
   "name": "python",
   "nbconvert_exporter": "python",
   "pygments_lexer": "ipython3",
   "version": "3.8.8"
  },
  "toc": {
   "base_numbering": 1,
   "nav_menu": {},
   "number_sections": true,
   "sideBar": true,
   "skip_h1_title": false,
   "title_cell": "Table of Contents",
   "title_sidebar": "Contents",
   "toc_cell": false,
   "toc_position": {},
   "toc_section_display": true,
   "toc_window_display": false
  },
  "varInspector": {
   "cols": {
    "lenName": 16,
    "lenType": 16,
    "lenVar": 40
   },
   "kernels_config": {
    "python": {
     "delete_cmd_postfix": "",
     "delete_cmd_prefix": "del ",
     "library": "var_list.py",
     "varRefreshCmd": "print(var_dic_list())"
    },
    "r": {
     "delete_cmd_postfix": ") ",
     "delete_cmd_prefix": "rm(",
     "library": "var_list.r",
     "varRefreshCmd": "cat(var_dic_list()) "
    }
   },
   "types_to_exclude": [
    "module",
    "function",
    "builtin_function_or_method",
    "instance",
    "_Feature"
   ],
   "window_display": false
  }
 },
 "nbformat": 4,
 "nbformat_minor": 5
}
