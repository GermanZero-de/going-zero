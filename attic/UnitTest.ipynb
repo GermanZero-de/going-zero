{
 "cells": [
  {
   "cell_type": "code",
   "execution_count": null,
   "metadata": {},
   "outputs": [],
   "source": [
    "from Generator import *\n",
    "import json"
   ]
  },
  {
   "cell_type": "code",
   "execution_count": null,
   "metadata": {},
   "outputs": [],
   "source": [
    "#create Generator dictionary\n",
    "gen = g.dict()"
   ]
  },
  {
   "cell_type": "code",
   "execution_count": null,
   "metadata": {},
   "outputs": [],
   "source": [
    "class UnitTest:\n",
    "    \n",
    "    gen:dict = None  # Generator dictionary\n",
    "    xls:dict = None  # Excel dictionary\n",
    "    eps:float = 0.05 # max rel accuracy for test to pass\n",
    "    p_sector_gen = None\n",
    "    \n",
    "    # read excel-dictionary\n",
    "    def set_excel(self, excel_path):\n",
    "        with open(excel_path, 'r') as fp:\n",
    "            self.xls = json.load(fp)\n",
    "        fp.close()\n",
    "        \n",
    "    # set Generator dictionary\n",
    "    def set_dict(self, gen):\n",
    "        self.gen = gen\n",
    "    \n",
    "    def check(self, sector:str, filter: int):\n",
    "        # compare data\n",
    "        # parameters: \n",
    "        #             sector: Sector to be checked (i.e. 'b18') \n",
    "        #             filter: printout filter\n",
    "        #             == 1 non existing row and column values\n",
    "        #             == 2 values not determined (None)\n",
    "        #             == 4 values that differ by more than 1%\n",
    "        #             == 8 values correct\n",
    "        #             or combinations (i.e. 2+4 = 6)\n",
    "        gen = self.gen\n",
    "        xls = self.xls       \n",
    "        eps = self.eps\n",
    "        \n",
    "        #counter\n",
    "        vne = vn = vnc = vcc = vnz = 0\n",
    "        \n",
    "        if gen == None or xls == None:\n",
    "            print('dictionaries to compare missing')\n",
    "            return\n",
    "        \n",
    "        sector_xls = xls[sector]\n",
    "        sector_gen = gen[sector]\n",
    "        self.p_sector_gen = sector_gen\n",
    "\n",
    "        #rows\n",
    "        for row in sector_xls:\n",
    "            if len(row) < 1:\n",
    "                continue\n",
    "\n",
    "            if row not in sector_gen:\n",
    "                vne += 1\n",
    "                if filter & 1 != 0:\n",
    "                    print('row \"' + row + '\" does not exist\\n')\n",
    "                continue\n",
    "\n",
    "            #columns\n",
    "            for col in sector_xls[row]:\n",
    "                if col not in sector_gen[row]:\n",
    "                    vne += 1\n",
    "                    if filter & 1 != 0:\n",
    "                        print('column \"' + col + '\" does not exist (' + row + ')')\n",
    "                    continue\n",
    "\n",
    "                # exclude string values\n",
    "                if type(sector_xls[row][col]).__name__ != 'str':\n",
    "                    # print None - values\n",
    "                    if sector_gen[row][col] == None:\n",
    "                        vn += 1\n",
    "                        if filter & 2 != 0:\n",
    "                            print('%-50s: %15.2f is None' % (row + '.' + col, sector_xls[row][col]))\n",
    "\n",
    "\n",
    "                    # treat 0 or non 0 values different\n",
    "                    # print differences\n",
    "                    elif sector_xls[row][col] != 0:\n",
    "                        #relative error\n",
    "                        rerr = abs((sector_gen[row][col] - sector_xls[row][col]) / sector_xls[row][col])\n",
    "                        if rerr > eps:\n",
    "                            vnc += 1\n",
    "                            if filter & 4 != 0:\n",
    "                                print('%-50s: %15.2f %15.2f Excel' % (row + '.' + col, sector_gen[row][col], sector_xls[row][col]))\n",
    "                        else:\n",
    "                            vcc += 1\n",
    "                            if filter & 8 != 0:\n",
    "                                print('%-50s: %15.2f %15.2f Correct' % (row + '.' + col, sector_gen[row][col], sector_xls[row][col]))\n",
    "                    # print \n",
    "                    else:\n",
    "                        if sector_gen[row][col] != 0:\n",
    "                            vnz += 1\n",
    "                            if filter & 16 != 0:\n",
    "                                print('%-50s: %15.2f %15.2f Excel' % (row + '.' + col, sector_gen[row][col], sector_xls[row][col]))\n",
    "        \n",
    "        # Statistics\n",
    "        print('columns or rows not found: ' + str(vne))\n",
    "        print('values not calculated: ' + str(vn))\n",
    "        print('values wrong: ' + str(vnc))\n",
    "        print('values not in Excel: ' + str(vnz))\n",
    "        print('values correct: ' + str(vcc))\n",
    "        print('sum: ' + str(vne + vn + vnc + vnz + vcc))\n",
    "              "
   ]
  },
  {
   "cell_type": "code",
   "execution_count": null,
   "metadata": {},
   "outputs": [],
   "source": [
    "ut = UnitTest()\n",
    "ut.set_excel('./Excel_values.json')\n",
    "ut.set_dict(gen)\n",
    "ut.check('i18', 4)"
   ]
  },
  {
   "cell_type": "raw",
   "metadata": {},
   "source": [
    "def search_value(gen: dict, var:str):\n",
    "    sep = '.'\n",
    "    for k in gen:\n",
    "        for l in gen[k]:\n",
    "            for m in gen[k][l]:\n",
    "                if l+sep+m == var:\n",
    "                    print(k+sep+l+sep+m+\"=\", gen[k][l][m])\n",
    "\n"
   ]
  },
  {
   "cell_type": "raw",
   "metadata": {},
   "source": [
    "#g = Generator()\n",
    "search_value(gen, \"p_buildings_total.area_m2\")"
   ]
  },
  {
   "cell_type": "code",
   "execution_count": null,
   "metadata": {},
   "outputs": [],
   "source": []
  }
 ],
 "metadata": {
  "interpreter": {
   "hash": "21fe85b299aee66c068894b636873e9f39a8c8ac5c03b25fe830b336563c4d4e"
  },
  "kernelspec": {
   "display_name": "Python 3",
   "language": "python",
   "name": "python3"
  },
  "language_info": {
   "codemirror_mode": {
    "name": "ipython",
    "version": 3
   },
   "file_extension": ".py",
   "mimetype": "text/x-python",
   "name": "python",
   "nbconvert_exporter": "python",
   "pygments_lexer": "ipython3",
   "version": "3.8.5"
  }
 },
 "nbformat": 4,
 "nbformat_minor": 4
}
