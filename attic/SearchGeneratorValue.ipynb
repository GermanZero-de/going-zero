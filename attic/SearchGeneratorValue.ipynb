{
 "cells": [
  {
   "cell_type": "markdown",
   "metadata": {},
   "source": [
    "### Wert einer Generator-Variablen suchen"
   ]
  },
  {
   "cell_type": "code",
   "execution_count": 20,
   "metadata": {},
   "outputs": [],
   "source": [
    "from Generator import *"
   ]
  },
  {
   "cell_type": "code",
   "execution_count": 21,
   "metadata": {},
   "outputs": [],
   "source": [
    "def search_value(gen: Generator, var:str):\n",
    "    sep = '.'\n",
    "    gen_dict = gen.dict()\n",
    "    for k in gen_dict:\n",
    "        for l in gen_dict[k]:\n",
    "            for m in gen_dict[k][l]:\n",
    "                if l+sep+m == var:\n",
    "                    print(k+sep+l+sep+m+\" =\", gen_dict[k][l][m])"
   ]
  },
  {
   "cell_type": "markdown",
   "metadata": {},
   "source": [
    "### Beispiel"
   ]
  },
  {
   "cell_type": "code",
   "execution_count": 22,
   "metadata": {},
   "outputs": [
    {
     "name": "stdout",
     "output_type": "stream",
     "text": [
      "e30.p_local_biomass.power_to_be_installed = 1722.0\n"
     ]
    }
   ],
   "source": [
    "search_value(g, \"p_local_biomass.power_to_be_installed\")"
   ]
  },
  {
   "cell_type": "code",
   "execution_count": null,
   "metadata": {},
   "outputs": [],
   "source": []
  }
 ],
 "metadata": {
  "kernelspec": {
   "display_name": "Python 3",
   "language": "python",
   "name": "python3"
  },
  "language_info": {
   "codemirror_mode": {
    "name": "ipython",
    "version": 3
   },
   "file_extension": ".py",
   "mimetype": "text/x-python",
   "name": "python",
   "nbconvert_exporter": "python",
   "pygments_lexer": "ipython3",
   "version": "3.8.5"
  }
 },
 "nbformat": 4,
 "nbformat_minor": 4
}
