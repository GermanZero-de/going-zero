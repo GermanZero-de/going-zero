{
 "cells": [
  {
   "cell_type": "markdown",
   "id": "2fcf29fa",
   "metadata": {},
   "source": [
    "Imports a \".csv\" version of the fact sheet with pandas. "
   ]
  },
  {
   "cell_type": "code",
   "execution_count": 1,
   "id": "14ebf2d7",
   "metadata": {
    "ExecuteTime": {
     "end_time": "2021-07-16T10:05:55.638583Z",
     "start_time": "2021-07-16T10:05:49.065959Z"
    }
   },
   "outputs": [],
   "source": [
    "import numpy as np\n",
    "import pandas as pd"
   ]
  },
  {
   "cell_type": "markdown",
   "id": "05c23637",
   "metadata": {},
   "source": [
    "Helper functions"
   ]
  },
  {
   "cell_type": "code",
   "execution_count": 3,
   "id": "587671b6",
   "metadata": {
    "ExecuteTime": {
     "end_time": "2021-07-16T10:05:55.717977Z",
     "start_time": "2021-07-16T10:05:55.692050Z"
    }
   },
   "outputs": [],
   "source": [
    "#rename the first colums of the dataFrame with names list\n",
    "def renamecsvColumns(dataFrame, names):\n",
    "    columnNames=dict()\n",
    "    for i  in range(len(names)):\n",
    "        columnNames['Unnamed: '+str(i+1)] = names[i]\n",
    "    \n",
    "    dataFrame.rename(columns=columnNames,inplace=True)\n",
    "    return  dataFrame\n",
    "\n",
    "# makes string List with column names like ['Unnamed: start','Unnamed: start+1',..,'Unnamed: end-1']\n",
    "def makeColDelList(start=11,end=80):\n",
    "    \n",
    "    delList=[]\n",
    "    for i  in range(start,end):\n",
    "        delList.append('Unnamed: '+ str(i))\n",
    "    \n",
    "    \n",
    "    return  delList"
   ]
  },
  {
   "cell_type": "markdown",
   "id": "c0c8c1ed",
   "metadata": {},
   "source": [
    "Import data and clear unnecessary content"
   ]
  },
  {
   "cell_type": "code",
   "execution_count": 4,
   "id": "1a2af6b5",
   "metadata": {
    "ExecuteTime": {
     "end_time": "2021-07-16T10:05:57.794406Z",
     "start_time": "2021-07-16T10:05:57.488064Z"
    }
   },
   "outputs": [
    {
     "data": {
      "text/html": [
       "<div>\n",
       "<style scoped>\n",
       "    .dataframe tbody tr th:only-of-type {\n",
       "        vertical-align: middle;\n",
       "    }\n",
       "\n",
       "    .dataframe tbody tr th {\n",
       "        vertical-align: top;\n",
       "    }\n",
       "\n",
       "    .dataframe thead th {\n",
       "        text-align: right;\n",
       "    }\n",
       "</style>\n",
       "<table border=\"1\" class=\"dataframe\">\n",
       "  <thead>\n",
       "    <tr style=\"text-align: right;\">\n",
       "      <th></th>\n",
       "      <th>short Description</th>\n",
       "      <th>name</th>\n",
       "      <th>value</th>\n",
       "      <th>unit</th>\n",
       "      <th>description</th>\n",
       "      <th>sourceSpecification</th>\n",
       "      <th>link</th>\n",
       "      <th>time</th>\n",
       "      <th>author</th>\n",
       "      <th>date</th>\n",
       "    </tr>\n",
       "  </thead>\n",
       "  <tbody>\n",
       "    <tr>\n",
       "      <th>6</th>\n",
       "      <td>Anteil Erdgas an Fernwärme ohne KWK 2018</td>\n",
       "      <td>NaN</td>\n",
       "      <td>0.78</td>\n",
       "      <td>NaN</td>\n",
       "      <td>NaN</td>\n",
       "      <td>AGFW Hauptbericht 2018 S.23</td>\n",
       "      <td>https://www.agfw.de/index.php?eID=tx_securedow...</td>\n",
       "      <td>20min</td>\n",
       "      <td>Fabian Bock</td>\n",
       "      <td>10.04.2021</td>\n",
       "    </tr>\n",
       "    <tr>\n",
       "      <th>7</th>\n",
       "      <td>Anteil Rest an Fernwärme ohne KWK 2018</td>\n",
       "      <td>NaN</td>\n",
       "      <td>0.22</td>\n",
       "      <td>NaN</td>\n",
       "      <td>NaN</td>\n",
       "      <td>AGFW Hauptbericht 2018 S.23</td>\n",
       "      <td>https://www.agfw.de/index.php?eID=tx_securedow...</td>\n",
       "      <td>20min</td>\n",
       "      <td>Fabian Bock</td>\n",
       "      <td>11.04.2021</td>\n",
       "    </tr>\n",
       "    <tr>\n",
       "      <th>8</th>\n",
       "      <td>Anteil KWK an Wärmenetzeinspeisung Fernwärme 2018</td>\n",
       "      <td>NaN</td>\n",
       "      <td>0.8</td>\n",
       "      <td>NaN</td>\n",
       "      <td>NaN</td>\n",
       "      <td>AGFW Hauptbericht 2018 S.9</td>\n",
       "      <td>https://www.agfw.de/index.php?eID=tx_securedow...</td>\n",
       "      <td>20min</td>\n",
       "      <td>Fabian Bock</td>\n",
       "      <td>12.04.2021</td>\n",
       "    </tr>\n",
       "    <tr>\n",
       "      <th>9</th>\n",
       "      <td>Anteil Nicht-KWK an Wärmenetzeinspeisung Fernw...</td>\n",
       "      <td>NaN</td>\n",
       "      <td>0.18</td>\n",
       "      <td>NaN</td>\n",
       "      <td>NaN</td>\n",
       "      <td>AGFW Hauptbericht 2018 S.9</td>\n",
       "      <td>https://www.agfw.de/index.php?eID=tx_securedow...</td>\n",
       "      <td>20min</td>\n",
       "      <td>Fabian Bock</td>\n",
       "      <td>13.04.2021</td>\n",
       "    </tr>\n",
       "    <tr>\n",
       "      <th>10</th>\n",
       "      <td>Anteil industrielle Abwärme an Wärmenetzeinspe...</td>\n",
       "      <td>NaN</td>\n",
       "      <td>0.02</td>\n",
       "      <td>NaN</td>\n",
       "      <td>NaN</td>\n",
       "      <td>AGFW Hauptbericht 2018 S.9</td>\n",
       "      <td>https://www.agfw.de/index.php?eID=tx_securedow...</td>\n",
       "      <td>20min</td>\n",
       "      <td>Fabian Bock</td>\n",
       "      <td>14.04.2021</td>\n",
       "    </tr>\n",
       "    <tr>\n",
       "      <th>...</th>\n",
       "      <td>...</td>\n",
       "      <td>...</td>\n",
       "      <td>...</td>\n",
       "      <td>...</td>\n",
       "      <td>...</td>\n",
       "      <td>...</td>\n",
       "      <td>...</td>\n",
       "      <td>...</td>\n",
       "      <td>...</td>\n",
       "      <td>...</td>\n",
       "    </tr>\n",
       "    <tr>\n",
       "      <th>1204</th>\n",
       "      <td>EEV LW 2018 Heizöl</td>\n",
       "      <td>Fact_A_S_fueloil_fec_2018</td>\n",
       "      <td>2416666.67</td>\n",
       "      <td>MWh</td>\n",
       "      <td>Heizöl leicht</td>\n",
       "      <td>NaN</td>\n",
       "      <td>NaN</td>\n",
       "      <td>NaN</td>\n",
       "      <td>NaN</td>\n",
       "      <td>NaN</td>\n",
       "    </tr>\n",
       "    <tr>\n",
       "      <th>1205</th>\n",
       "      <td>EEV LW 2018 LPG</td>\n",
       "      <td>Fact_A_S_lpg_fec_2018</td>\n",
       "      <td>2388888.89</td>\n",
       "      <td>MWh</td>\n",
       "      <td>Flüssiggas</td>\n",
       "      <td>NaN</td>\n",
       "      <td>NaN</td>\n",
       "      <td>NaN</td>\n",
       "      <td>NaN</td>\n",
       "      <td>NaN</td>\n",
       "    </tr>\n",
       "    <tr>\n",
       "      <th>1206</th>\n",
       "      <td>EEV  LW 2018 Erdgas</td>\n",
       "      <td>Fact_A_S_gas_fec_2018</td>\n",
       "      <td>2944444.44</td>\n",
       "      <td>MWh</td>\n",
       "      <td>Erdgas</td>\n",
       "      <td>NaN</td>\n",
       "      <td>NaN</td>\n",
       "      <td>NaN</td>\n",
       "      <td>NaN</td>\n",
       "      <td>NaN</td>\n",
       "    </tr>\n",
       "    <tr>\n",
       "      <th>1207</th>\n",
       "      <td>EEV LW 2018 Biomasse</td>\n",
       "      <td>Fact_A_S_biomass_fec_2018</td>\n",
       "      <td>8972222.22</td>\n",
       "      <td>MWh</td>\n",
       "      <td>Biodiesel 3,9 + Bio-Ethanol 0,1 + sonstige Bio...</td>\n",
       "      <td>NaN</td>\n",
       "      <td>NaN</td>\n",
       "      <td>NaN</td>\n",
       "      <td>NaN</td>\n",
       "      <td>NaN</td>\n",
       "    </tr>\n",
       "    <tr>\n",
       "      <th>1208</th>\n",
       "      <td>EEV LW 2018 Strom</td>\n",
       "      <td>Fact_A_S_elec_fec_2018</td>\n",
       "      <td>5250000.0</td>\n",
       "      <td>MWh</td>\n",
       "      <td>Strom Landwirtschaft 18,5 und Fischerei 0,4PJ</td>\n",
       "      <td>NaN</td>\n",
       "      <td>NaN</td>\n",
       "      <td>NaN</td>\n",
       "      <td>NaN</td>\n",
       "      <td>NaN</td>\n",
       "    </tr>\n",
       "  </tbody>\n",
       "</table>\n",
       "<p>919 rows × 10 columns</p>\n",
       "</div>"
      ],
      "text/plain": [
       "                                      short Description  \\\n",
       "6              Anteil Erdgas an Fernwärme ohne KWK 2018   \n",
       "7                Anteil Rest an Fernwärme ohne KWK 2018   \n",
       "8     Anteil KWK an Wärmenetzeinspeisung Fernwärme 2018   \n",
       "9     Anteil Nicht-KWK an Wärmenetzeinspeisung Fernw...   \n",
       "10    Anteil industrielle Abwärme an Wärmenetzeinspe...   \n",
       "...                                                 ...   \n",
       "1204                                 EEV LW 2018 Heizöl   \n",
       "1205                                    EEV LW 2018 LPG   \n",
       "1206                                EEV  LW 2018 Erdgas   \n",
       "1207                               EEV LW 2018 Biomasse   \n",
       "1208                                  EEV LW 2018 Strom   \n",
       "\n",
       "                           name       value unit  \\\n",
       "6                           NaN        0.78  NaN   \n",
       "7                           NaN        0.22  NaN   \n",
       "8                           NaN         0.8  NaN   \n",
       "9                           NaN        0.18  NaN   \n",
       "10                          NaN        0.02  NaN   \n",
       "...                         ...         ...  ...   \n",
       "1204  Fact_A_S_fueloil_fec_2018  2416666.67  MWh   \n",
       "1205      Fact_A_S_lpg_fec_2018  2388888.89  MWh   \n",
       "1206      Fact_A_S_gas_fec_2018  2944444.44  MWh   \n",
       "1207  Fact_A_S_biomass_fec_2018  8972222.22  MWh   \n",
       "1208     Fact_A_S_elec_fec_2018   5250000.0  MWh   \n",
       "\n",
       "                                            description  \\\n",
       "6                                                   NaN   \n",
       "7                                                   NaN   \n",
       "8                                                   NaN   \n",
       "9                                                   NaN   \n",
       "10                                                  NaN   \n",
       "...                                                 ...   \n",
       "1204                                      Heizöl leicht   \n",
       "1205                                         Flüssiggas   \n",
       "1206                                             Erdgas   \n",
       "1207  Biodiesel 3,9 + Bio-Ethanol 0,1 + sonstige Bio...   \n",
       "1208      Strom Landwirtschaft 18,5 und Fischerei 0,4PJ   \n",
       "\n",
       "              sourceSpecification  \\\n",
       "6     AGFW Hauptbericht 2018 S.23   \n",
       "7     AGFW Hauptbericht 2018 S.23   \n",
       "8      AGFW Hauptbericht 2018 S.9   \n",
       "9      AGFW Hauptbericht 2018 S.9   \n",
       "10     AGFW Hauptbericht 2018 S.9   \n",
       "...                           ...   \n",
       "1204                          NaN   \n",
       "1205                          NaN   \n",
       "1206                          NaN   \n",
       "1207                          NaN   \n",
       "1208                          NaN   \n",
       "\n",
       "                                                   link   time       author  \\\n",
       "6     https://www.agfw.de/index.php?eID=tx_securedow...  20min  Fabian Bock   \n",
       "7     https://www.agfw.de/index.php?eID=tx_securedow...  20min  Fabian Bock   \n",
       "8     https://www.agfw.de/index.php?eID=tx_securedow...  20min  Fabian Bock   \n",
       "9     https://www.agfw.de/index.php?eID=tx_securedow...  20min  Fabian Bock   \n",
       "10    https://www.agfw.de/index.php?eID=tx_securedow...  20min  Fabian Bock   \n",
       "...                                                 ...    ...          ...   \n",
       "1204                                                NaN    NaN          NaN   \n",
       "1205                                                NaN    NaN          NaN   \n",
       "1206                                                NaN    NaN          NaN   \n",
       "1207                                                NaN    NaN          NaN   \n",
       "1208                                                NaN    NaN          NaN   \n",
       "\n",
       "            date  \n",
       "6     10.04.2021  \n",
       "7     11.04.2021  \n",
       "8     12.04.2021  \n",
       "9     13.04.2021  \n",
       "10    14.04.2021  \n",
       "...          ...  \n",
       "1204         NaN  \n",
       "1205         NaN  \n",
       "1206         NaN  \n",
       "1207         NaN  \n",
       "1208         NaN  \n",
       "\n",
       "[919 rows x 10 columns]"
      ]
     },
     "metadata": {},
     "output_type": "display_data"
    }
   ],
   "source": [
    "cutOffColStart=11\n",
    "cutOffColEnd=80\n",
    "\n",
    "\n",
    "facts = pd.read_csv(\"data/FaktenWithoutUnits.csv\", sep=';', header=1, encoding=\"utf8\")\n",
    "\n",
    "#drop first column\n",
    "facts.drop(['Nomenklatur: Fact_Sector_General/Production/Supply_furtherClassificationOfRows_Information_(…)_(perc)_(year)'],\n",
    "            axis=1,\n",
    "           inplace=True)\n",
    "\n",
    "#drop first 6 rows\n",
    "facts.drop(range(0,6),axis=0,inplace=True)\n",
    "\n",
    "#renames important colmuns\n",
    "renamecsvColumns(facts,['short Description','name','value','unit','description','sourceSpecification','link','time','author','date'])\n",
    "\n",
    "#cuts of the empty columns cutOffColStart to cutOffColEnd\n",
    "facts.drop(makeColDelList(cutOffColStart,cutOffColEnd),axis=1,inplace=True)\n",
    "\n",
    "#filter out all rows without NaN (Not a Number) in the value column\n",
    "filter1=facts[pd.isna(facts['value'])].index\n",
    "facts.drop(filter1,axis=0,inplace=True)\n",
    "\n",
    "#casts al values in the value column from strings to floats \n",
    "for i in range(len(facts['value'])):\n",
    "    facts.iat[i,2] = float(facts.iat[i,2])\n",
    "\n",
    "facts.to_pickle('data/facts.pki')    \n",
    "display(facts)"
   ]
  },
  {
   "cell_type": "code",
   "execution_count": 4,
   "id": "12bc4cfc",
   "metadata": {
    "ExecuteTime": {
     "end_time": "2021-07-11T17:54:55.059349Z",
     "start_time": "2021-07-11T17:54:55.043355Z"
    }
   },
   "outputs": [
    {
     "data": {
      "text/plain": [
       "2388888.89"
      ]
     },
     "execution_count": 4,
     "metadata": {},
     "output_type": "execute_result"
    }
   ],
   "source": [
    "facts.iat[915,2]"
   ]
  },
  {
   "cell_type": "markdown",
   "id": "50497864",
   "metadata": {},
   "source": [
    "Access function to fact table via variable name"
   ]
  },
  {
   "cell_type": "code",
   "execution_count": 4,
   "id": "ed374d22",
   "metadata": {
    "ExecuteTime": {
     "end_time": "2021-07-15T09:34:20.382853Z",
     "start_time": "2021-07-15T09:34:20.376872Z"
    }
   },
   "outputs": [],
   "source": [
    "def fact(keyname):\n",
    "#    for i in range(len(facts['name'])):\n",
    "#        if facts.iat[i,1] == keyname:\n",
    "#            return facts.iat[i,2]\n",
    "#    print('could not find'+ keyname + ' key in facts')\n",
    "    return facts[facts['name']==keyname]['value'].values[0]\n"
   ]
  },
  {
   "cell_type": "code",
   "execution_count": 7,
   "id": "bf055206",
   "metadata": {
    "ExecuteTime": {
     "end_time": "2021-07-15T10:18:16.375378Z",
     "start_time": "2021-07-15T10:18:16.369390Z"
    }
   },
   "outputs": [
    {
     "data": {
      "text/plain": [
       "8972222.22"
      ]
     },
     "execution_count": 7,
     "metadata": {},
     "output_type": "execute_result"
    }
   ],
   "source": [
    "fact('Fact_A_S_biomass_fec_2018')"
   ]
  },
  {
   "cell_type": "code",
   "execution_count": null,
   "id": "bdecd288",
   "metadata": {},
   "outputs": [],
   "source": []
  }
 ],
 "metadata": {
  "kernelspec": {
   "display_name": "Python 3",
   "language": "python",
   "name": "python3"
  },
  "language_info": {
   "codemirror_mode": {
    "name": "ipython",
    "version": 3
   },
   "file_extension": ".py",
   "mimetype": "text/x-python",
   "name": "python",
   "nbconvert_exporter": "python",
   "pygments_lexer": "ipython3",
   "version": "3.8.8"
  },
  "varInspector": {
   "cols": {
    "lenName": 16,
    "lenType": 16,
    "lenVar": 40
   },
   "kernels_config": {
    "python": {
     "delete_cmd_postfix": "",
     "delete_cmd_prefix": "del ",
     "library": "var_list.py",
     "varRefreshCmd": "print(var_dic_list())"
    },
    "r": {
     "delete_cmd_postfix": ") ",
     "delete_cmd_prefix": "rm(",
     "library": "var_list.r",
     "varRefreshCmd": "cat(var_dic_list()) "
    }
   },
   "types_to_exclude": [
    "module",
    "function",
    "builtin_function_or_method",
    "instance",
    "_Feature"
   ],
   "window_display": false
  }
 },
 "nbformat": 4,
 "nbformat_minor": 5
}
