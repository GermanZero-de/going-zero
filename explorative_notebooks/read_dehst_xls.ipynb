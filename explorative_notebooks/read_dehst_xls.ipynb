{
 "cells": [
  {
   "cell_type": "markdown",
   "metadata": {},
   "source": [
    "# Description\n",
    "In this notebook methods to find the ags for factories.\n",
    "\n",
    "# OpenToDos:\n",
    "- What to do with AGS = DG00000?"
   ]
  },
  {
   "cell_type": "code",
   "execution_count": null,
   "metadata": {},
   "outputs": [],
   "source": [
    "import pandas as pd\n",
    "import numpy as np"
   ]
  },
  {
   "cell_type": "markdown",
   "metadata": {},
   "source": [
    "# Load data"
   ]
  },
  {
   "cell_type": "code",
   "execution_count": null,
   "metadata": {},
   "outputs": [],
   "source": [
    "def add_zeros(ags):\n",
    "    ags = str(ags)\n",
    "    length_ags = len(ags)\n",
    "    if length_ags < 8:\n",
    "        ags = \"0\" * (8-length_ags) + ags\n",
    "    return ags\n",
    "\n",
    "df_ags = pd.read_csv(\"../data/public/ags/master.csv\")\n",
    "\n",
    "# reading of old AGS List (deprecated)\n",
    "\n",
    "# df_ags = pd.read_csv(\"ags_liste.csv\", encoding=\"cp1252\", engine=\"python\", sep=\";\", dtype={\"AGS\": str})\n",
    "# df_ags.rename(columns={\"8-stellige AGS\": \"AGS\", \"Einheit\": \"Ort\"}, inplace=True)\n",
    "# df_ags.drop(\n",
    "#     columns=[\"Zahl\", \"Insgesamt\", \"männlich\", \"weiblich\", \"Prüfzahl\"], inplace=True\n",
    "# )\n",
    "# df_ags[\"AGS\"] = df_ags[\"AGS\"].apply(add_zeros)\n",
    "\n",
    "df_anlagen = pd.read_csv(\n",
    "    \"Anlagenliste_AGS_V2.csv\", encoding=\"cp1252\", engine=\"python\", sep=\";\", converters={\"Bundesland\": str, \"AGS_manual\": str}\n",
    ")\n",
    "df_anlagen.rename(\n",
    "    columns={\n",
    "        \"Standort der Anlage\": \"Ort\",\n",
    "        \"AGS\": \"AGS_xls\",\n",
    "        \"VET 2018 [t CO2 Äq]\": \"VET2018_t\",\n",
    "        \"Haupttätigkeit nach TEHG\": \"TEHG_Nr\",\n",
    "        \"Bezeichnung Haupttätigkeit nach TEHG\": \"TEHG_name\",\n",
    "    },\n",
    "    inplace=True,\n",
    ")\n",
    "df_anlagen.drop(\n",
    "    columns=[\n",
    "        \"Prüfsumme\",\n",
    "    ],\n",
    "    inplace=True,\n",
    ")"
   ]
  },
  {
   "cell_type": "markdown",
   "metadata": {},
   "source": [
    "# Data Processing\n",
    "## Add industrie cateogires to facilities"
   ]
  },
  {
   "cell_type": "code",
   "execution_count": null,
   "metadata": {},
   "outputs": [],
   "source": [
    "dict_industry_categories = {\n",
    "    \"miner_cement\": [\"Herstellung von Zementklinker\"],\n",
    "    \"miner_chalk\": [\"Herstellung von Kalk\"],\n",
    "    \"miner_glas\": [\"Herstellung von Glas\"],\n",
    "    \"miner_ceram\": [\"Herstellung von Keramik\"],\n",
    "    \"chem_basic\": [\n",
    "        \"Herstellung von Salpetersäure\",\n",
    "        \"Herstellung organischer Grundchemikalien\",\n",
    "        \"Herstellung von Soda\",\n",
    "        \"Herstellung von Adipinsäure\",\n",
    "        \"Herstellung von Industrieruß\",\n",
    "    ],\n",
    "    \"chem_ammonia\": [\"Herstellung von Ammoniak\"],\n",
    "    \"chem_other\": [\"Herstellung von Glyoxal und Glyoxylsäure\"],\n",
    "    \"metal_steel\": [\n",
    "        \"Herstellung von Roheisen und Stahl\",\n",
    "        \"Verarbeitung von Eisenmetallen\",\n",
    "    ],\n",
    "    \"metal_steel_primary\": [\n",
    "        \"Herstellung von Roheisen und Stahl\"\n",
    "    ],  # contained in metal_steel\n",
    "    \"metal_steel_secondary\": [\n",
    "        \"Verarbeitung von Eisenmetallen\"\n",
    "    ],  # contained in metal_steel\n",
    "    \"metal_nonfe\": [\n",
    "        \"Verarbeitung von Nichteisenmetallen\",\n",
    "        \"Herstellung von Primäraluminium\",\n",
    "        \"Verarbeitung von Metallerzen\",\n",
    "    ],\n",
    "    \"other_paper\": [\"Herstellung von Papier\", \"Herstellung von Zellstoff\"],\n",
    "    \"other_food\": [],\n",
    "    \"other_further\": [\"Herstellung von Mineralfasern\", \"Herstellung von Gips\"],\n",
    "}\n",
    "\n",
    "# Herstellung von Mineralfasern ?, Herstellung von Gips ?\n"
   ]
  },
  {
   "cell_type": "code",
   "execution_count": null,
   "metadata": {},
   "outputs": [],
   "source": [
    "df_anlagen[\"i_categorie\"] = \"No categorie\"\n",
    "for key, item in dict_industry_categories.items():\n",
    "    if len(item) > 0:\n",
    "        for name in item:\n",
    "            df_anlagen.loc[df_anlagen[\"TEHG_name\"] == name, \"i_categorie\"] = key"
   ]
  },
  {
   "cell_type": "markdown",
   "metadata": {},
   "source": [
    "## Select \"Anlagen\" from industry"
   ]
  },
  {
   "cell_type": "code",
   "execution_count": null,
   "metadata": {},
   "outputs": [],
   "source": [
    "df_anlagen = df_anlagen[df_anlagen[\"i_categorie\"] != \"No categorie\"]"
   ]
  },
  {
   "cell_type": "code",
   "execution_count": null,
   "metadata": {},
   "outputs": [],
   "source": [
    "print(f\"{len(df_anlagen)} selected\")"
   ]
  },
  {
   "cell_type": "markdown",
   "metadata": {},
   "source": [
    "## Add state information to df_ags"
   ]
  },
  {
   "cell_type": "code",
   "execution_count": null,
   "metadata": {},
   "outputs": [],
   "source": [
    "ags_to_state = {\n",
    "    \"01\" : \"SH\",\n",
    "    \"02\" : \"HH\",\n",
    "    \"03\" : \"NI\",\n",
    "    \"04\" : \"HB\",\n",
    "    \"05\" : \"NW\",\n",
    "    \"06\" : \"HE\",\n",
    "    \"07\" : \"RP\",\n",
    "    \"08\" : \"BW\",\n",
    "    \"09\" : \"BY\",\n",
    "    \"10\" : \"SL\",\n",
    "    \"11\" : \"BE\",\n",
    "    \"12\" : \"BB\",\n",
    "    \"13\" : \"MV\",\n",
    "    \"14\" : \"SN\",\n",
    "    \"15\" : \"ST\",\n",
    "    \"16\" : \"TH\"\n",
    "}"
   ]
  },
  {
   "cell_type": "code",
   "execution_count": null,
   "metadata": {},
   "outputs": [],
   "source": [
    "df_ags[\"ags_state_digits\"] = [x[:2] for x in df_ags[\"ags\"]]\n",
    "df_ags[\"state\"] = df_ags[\"ags_state_digits\"].map(ags_to_state)"
   ]
  },
  {
   "cell_type": "markdown",
   "metadata": {},
   "source": [
    "## Remove not necessary parts of the Names in AGS"
   ]
  },
  {
   "cell_type": "code",
   "execution_count": null,
   "metadata": {},
   "outputs": [],
   "source": [
    "# remove \" , Stadt\"\n",
    "df_ags[\"name\"] = df_ags[\"description\"].str.split(\",\").str[0]"
   ]
  },
  {
   "cell_type": "markdown",
   "metadata": {},
   "source": [
    "## Select duplicates in AGS List (column: \"description\")"
   ]
  },
  {
   "cell_type": "code",
   "execution_count": null,
   "metadata": {},
   "outputs": [],
   "source": [
    "df_ags_duplicates = df_ags[df_ags.duplicated(subset=\"name\", keep=False)]\n",
    "df_ags_duplicates = df_ags_duplicates.sort_values(\"name\")\n",
    "df_ags_no_duplicates = df_ags.drop_duplicates(subset=\"name\", keep=False)"
   ]
  },
  {
   "cell_type": "code",
   "execution_count": null,
   "metadata": {},
   "outputs": [],
   "source": [
    "n = 0\n",
    "mask_duplicates_state_unique = [False] * len(df_ags_duplicates)\n",
    "while True:\n",
    "    row = df_ags_duplicates.iloc[n]\n",
    "    ort_count = df_ags_duplicates[df_ags_duplicates[\"name\"] == row[\"name\"]].shape[0]\n",
    "\n",
    "    if ort_count ==2:\n",
    "        if row[\"state\"] != df_ags_duplicates.iloc[n + 1][\"state\"]:\n",
    "            mask_duplicates_state_unique[n] = True\n",
    "            mask_duplicates_state_unique[n + 1] = True\n",
    "\n",
    "    elif ort_count ==3:\n",
    "        if (\n",
    "            (row[\"state\"] != df_ags_duplicates.iloc[n + 1][\"state\"])\n",
    "            & (\n",
    "                row[\"state\"]\n",
    "                != df_ags_duplicates.loc[:, \"state\"].iloc[n + 2]\n",
    "            )\n",
    "            & (\n",
    "                df_ags_duplicates.loc[:, \"state\"].iloc[n + 1]\n",
    "                != df_ags_duplicates.loc[:, \"state\"].iloc[n + 2]\n",
    "            )\n",
    "        ):\n",
    "            mask_duplicates_state_unique[n] = True\n",
    "            mask_duplicates_state_unique[n + 1] = True\n",
    "            mask_duplicates_state_unique[n + 2] = True\n",
    "\n",
    "    n += ort_count\n",
    "    if n >= len(df_ags_duplicates):\n",
    "        break"
   ]
  },
  {
   "cell_type": "code",
   "execution_count": null,
   "metadata": {},
   "outputs": [],
   "source": [
    "df_ags_duplicates_state_unique = df_ags_duplicates[mask_duplicates_state_unique]"
   ]
  },
  {
   "cell_type": "markdown",
   "metadata": {},
   "source": [
    "# Find AGS for \"Ort\""
   ]
  },
  {
   "cell_type": "code",
   "execution_count": null,
   "metadata": {},
   "outputs": [],
   "source": [
    "df_anlagen"
   ]
  },
  {
   "cell_type": "code",
   "execution_count": null,
   "metadata": {},
   "outputs": [],
   "source": [
    "for index, row in df_anlagen.iterrows():\n",
    "    state_anlage = row.loc[\"Bundesland\"]\n",
    "    location_anlage = row.loc[\"Ort\"]\n",
    "    if ~df_anlagen.loc[:,\"AGS_manual\"].isna().loc[index]:\n",
    "        df_anlagen.loc[index, \"AGS\"] = df_anlagen.loc[index, \"AGS_manual\"]\n",
    "        df_anlagen.loc[index, \"match_type\"] = \"manual_entry\"\n",
    "    else:\n",
    "        temp_ags_match = df_ags_no_duplicates.loc[(df_ags_no_duplicates[\"name\"] == location_anlage)]\n",
    "        # select entries with only one match\n",
    "        if temp_ags_match.shape[0] == 1:\n",
    "            if temp_ags_match[\"state\"].values[0] == state_anlage:\n",
    "                df_anlagen.loc[index, \"AGS\"] = temp_ags_match[\"ags\"].values[0]\n",
    "                df_anlagen.loc[index, \"match_type\"] = \"direct\"\n",
    "\n",
    "        temp_ags_match_dup = df_ags_duplicates_state_unique.loc[(df_ags_duplicates_state_unique[\"name\"] == location_anlage)]\n",
    "        if temp_ags_match_dup.shape[0] == 1:\n",
    "            raise ValueError(\"Duplication selection wrong. Single entry found in AGS list\")\n",
    "        elif temp_ags_match_dup.shape[0] > 1:\n",
    "            for index_match, match in temp_ags_match_dup.iterrows():\n",
    "                if match[\"state\"] == state_anlage:\n",
    "                    df_anlagen.loc[index, \"AGS\"] = match[\"ags\"]\n",
    "                    df_anlagen.loc[index, \"match_type\"] = \"dublicate_match_state_unique\""
   ]
  },
  {
   "cell_type": "code",
   "execution_count": null,
   "metadata": {},
   "outputs": [],
   "source": [
    "\n",
    "for index, row in df_anlagen[df_anlagen[\"match_type\"].isna()].iterrows():\n",
    "    state_anlage = row.loc[\"Bundesland\"]\n",
    "    location_anlage = row.loc[\"Ort\"]\n",
    "    temp_ags_match = df_ags_no_duplicates[df_ags_no_duplicates[\"name\"].str.startswith(location_anlage) == True]\n",
    "    if temp_ags_match.shape[0] == 1:\n",
    "        if temp_ags_match[\"state\"].values[0] == state_anlage:\n",
    "            df_anlagen.loc[index, \"AGS\"] = temp_ags_match[\"ags\"].values[0]\n",
    "            df_anlagen.loc[index, \"match_type\"] = \"starts_with_only_one_match\""
   ]
  },
  {
   "cell_type": "code",
   "execution_count": null,
   "metadata": {},
   "outputs": [],
   "source": [
    "df_anlagen[\"match_type\"].value_counts(dropna=False)"
   ]
  },
  {
   "cell_type": "code",
   "execution_count": null,
   "metadata": {},
   "outputs": [],
   "source": [
    "temp =df_anlagen[df_anlagen[\"match_type\"].isna()]"
   ]
  },
  {
   "cell_type": "code",
   "execution_count": null,
   "metadata": {},
   "outputs": [],
   "source": []
  }
 ],
 "metadata": {
  "kernelspec": {
   "display_name": "Python 3.10.2 ('generatorcore-KFpNkd6e-py3.10')",
   "language": "python",
   "name": "python3"
  },
  "language_info": {
   "codemirror_mode": {
    "name": "ipython",
    "version": 3
   },
   "file_extension": ".py",
   "mimetype": "text/x-python",
   "name": "python",
   "nbconvert_exporter": "python",
   "pygments_lexer": "ipython3",
   "version": "3.10.2"
  },
  "orig_nbformat": 4,
  "vscode": {
   "interpreter": {
    "hash": "f2a1d822506b7b3721e19019d21f35b953f01c40f61202c4c3e001e38260f7cb"
   }
  }
 },
 "nbformat": 4,
 "nbformat_minor": 2
}
