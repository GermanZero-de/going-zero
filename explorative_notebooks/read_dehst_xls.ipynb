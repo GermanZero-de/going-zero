{
 "cells": [
  {
   "cell_type": "code",
   "execution_count": null,
   "metadata": {},
   "outputs": [],
   "source": [
    "import pandas as pd\n",
    "import numpy as np"
   ]
  },
  {
   "cell_type": "markdown",
   "metadata": {},
   "source": [
    "# Load data"
   ]
  },
  {
   "cell_type": "code",
   "execution_count": null,
   "metadata": {},
   "outputs": [],
   "source": [
    "def add_zeros(ags):\n",
    "    ags = str(ags)\n",
    "    length_ags = len(ags)\n",
    "    if length_ags < 8:\n",
    "        ags = \"0\" * (8-length_ags) + ags\n",
    "    return ags\n",
    "\n",
    "df_ags = pd.read_csv(\"../data/public/ags/master.csv\")\n",
    "\n",
    "# reading of old AGS List\n",
    "\n",
    "# df_ags = pd.read_csv(\"ags_liste.csv\", encoding=\"cp1252\", engine=\"python\", sep=\";\", dtype={\"AGS\": str})\n",
    "# df_ags.rename(columns={\"8-stellige AGS\": \"AGS\", \"Einheit\": \"Ort\"}, inplace=True)\n",
    "# df_ags.drop(\n",
    "#     columns=[\"Zahl\", \"Insgesamt\", \"männlich\", \"weiblich\", \"Prüfzahl\"], inplace=True\n",
    "# )\n",
    "# df_ags[\"AGS\"] = df_ags[\"AGS\"].apply(add_zeros)\n",
    "\n",
    "df_anlagen = pd.read_csv(\n",
    "    \"Anlagenliste_AGS.csv\", encoding=\"cp1252\", engine=\"python\", sep=\";\"\n",
    ")\n",
    "df_anlagen.rename(\n",
    "    columns={\n",
    "        \"Standort der Anlage\": \"Ort\",\n",
    "        \"AGS\": \"AGS_xls\",\n",
    "        \"VET 2018 [t CO2 Äq]\": \"VET2018_t\",\n",
    "        \"Haupttätigkeit nach TEHG\": \"TEHG_Nr\",\n",
    "        \"Bezeichnung Haupttätigkeit nach TEHG\": \"TEHG_name\",\n",
    "    },\n",
    "    inplace=True,\n",
    ")\n",
    "df_anlagen.drop(\n",
    "    columns=[\n",
    "        \"Prüfsumme\",\n",
    "    ],\n",
    "    inplace=True,\n",
    ")\n"
   ]
  },
  {
   "cell_type": "markdown",
   "metadata": {},
   "source": [
    "## Add industrie cateogires to facilities"
   ]
  },
  {
   "cell_type": "code",
   "execution_count": null,
   "metadata": {},
   "outputs": [],
   "source": [
    "dict_industry_categories = {\n",
    "    \"miner_cement\": [\"Herstellung von Zementklinker\"],\n",
    "    \"miner_chalk\": [\"Herstellung von Kalk\"],\n",
    "    \"miner_glas\": [\"Herstellung von Glas\"],\n",
    "    \"miner_ceram\": [\"Herstellung von Keramik\"],\n",
    "    \"chem_basic\": [\n",
    "        \"Herstellung von Salpetersäure\",\n",
    "        \"Herstellung organischer Grundchemikalien\",\n",
    "        \"Herstellung von Soda\",\n",
    "        \"Herstellung von Adipinsäure\",\n",
    "        \"Herstellung von Industrieruß\",\n",
    "    ],\n",
    "    \"chem_ammonia\": [\"Herstellung von Ammoniak\"],\n",
    "    \"chem_other\": [\"Herstellung von Glyoxal und Glyoxylsäure\"],\n",
    "    \"metal_steel\": [\n",
    "        \"Herstellung von Roheisen und Stahl\",\n",
    "        \"Verarbeitung von Eisenmetallen\",\n",
    "    ],\n",
    "    \"metal_steel_primary\": [\n",
    "        \"Herstellung von Roheisen und Stahl\"\n",
    "    ],  # contained in metal_steel\n",
    "    \"metal_steel_secondary\": [\n",
    "        \"Verarbeitung von Eisenmetallen\"\n",
    "    ],  # contained in metal_steel\n",
    "    \"metal_nonfe\": [\n",
    "        \"Verarbeitung von Nichteisenmetallen\",\n",
    "        \"Herstellung von Primäraluminium\",\n",
    "        \"Verarbeitung von Metallerzen\",\n",
    "    ],\n",
    "    \"other_paper\": [\"Herstellung von Papier\", \"Herstellung von Zellstoff\"],\n",
    "    \"other_food\": [],\n",
    "    \"other_further\": [\"Herstellung von Mineralfasern\", \"Herstellung von Gips\"],\n",
    "}\n",
    "\n",
    "# Herstellung von Mineralfasern ?, Herstellung von Gips ?\n"
   ]
  },
  {
   "cell_type": "code",
   "execution_count": null,
   "metadata": {},
   "outputs": [],
   "source": [
    "df_anlagen[\"i_categorie\"] = \"No categorie\"\n",
    "for key, item in dict_industry_categories.items():\n",
    "    if len(item) > 0:\n",
    "        for name in item:\n",
    "            df_anlagen.loc[df_anlagen[\"TEHG_name\"] == name, \"i_categorie\"] = key"
   ]
  },
  {
   "cell_type": "markdown",
   "metadata": {},
   "source": [
    "use only \"Anlagen\" from industrie"
   ]
  },
  {
   "cell_type": "code",
   "execution_count": null,
   "metadata": {},
   "outputs": [],
   "source": [
    "df_anlagen = df_anlagen[df_anlagen[\"i_categorie\"] != \"No categorie\"]"
   ]
  },
  {
   "cell_type": "markdown",
   "metadata": {},
   "source": [
    "### remove duplicate AGS with identical Values in \"Ort\" (have to be added manually!)"
   ]
  },
  {
   "cell_type": "code",
   "execution_count": null,
   "metadata": {},
   "outputs": [],
   "source": [
    "df_duplicates = df_ags[df_ags.duplicated(subset=\"description\", keep=False)]\n",
    "df_duplicates = df_duplicates.sort_values(\"description\")"
   ]
  },
  {
   "cell_type": "code",
   "execution_count": null,
   "metadata": {},
   "outputs": [],
   "source": [
    "df_ags_no_duplicates = df_ags.drop_duplicates(subset=\"description\", keep=False)"
   ]
  },
  {
   "cell_type": "markdown",
   "metadata": {},
   "source": [
    "# Find AGS for \"Ort\""
   ]
  },
  {
   "cell_type": "code",
   "execution_count": null,
   "metadata": {},
   "outputs": [],
   "source": [
    "df_anlagen.loc[:, \"AGS\"] = None\n",
    "df_anlagen.loc[:, \"Loc_matches\"] = None\n",
    "df_anlagen.loc[:, \"match_type\"] = None\n",
    "\n",
    "# merge direct matches for column \"Ort\"\n",
    "df_merge = df_anlagen.merge(df_ags_no_duplicates, left_on=\"Ort\", right_on=\"description\", how=\"left\")\n",
    "df_merge.loc[~df_merge[\"ags\"].isna(), \"match_type\"] = \"direct\"\n",
    "\n",
    "df_merge_open = df_merge[df_merge[\"ags\"].isna()]\n",
    "\n",
    "# match unique entries that \n",
    "\n",
    "\n",
    "\n",
    "# unique_ags_locs = df_ags[\"Ort\"].unique()\n",
    "# for i, row in df_anlagen.iterrows():\n",
    "#     location = row[\"Ort\"]\n",
    "#     if row[\"Ort\"] in unique_ags_locs:\n",
    "#         for idx, ags_row in df_ags.iterrows():\n",
    "#             ags_loc = ags_row[\"Ort\"]\n",
    "#             if location == ags_loc:\n",
    "#                 df_anlagen.at[i, \"AGS\"] = ags_row[\"AGS\"]\n",
    "#                 df_anlagen.at[i, \"match_type\"] = \"direct\"\n",
    "#     else:\n",
    "#         print(location)\n",
    "\n",
    "    "
   ]
  },
  {
   "cell_type": "code",
   "execution_count": null,
   "metadata": {},
   "outputs": [],
   "source": [
    "df_merge[\"match_type\"].value_counts(dropna=False)"
   ]
  },
  {
   "cell_type": "code",
   "execution_count": null,
   "metadata": {},
   "outputs": [],
   "source": []
  }
 ],
 "metadata": {
  "kernelspec": {
   "display_name": "Python 3.10.2 ('generatorcore-KFpNkd6e-py3.10')",
   "language": "python",
   "name": "python3"
  },
  "language_info": {
   "codemirror_mode": {
    "name": "ipython",
    "version": 3
   },
   "file_extension": ".py",
   "mimetype": "text/x-python",
   "name": "python",
   "nbconvert_exporter": "python",
   "pygments_lexer": "ipython3",
   "version": "3.10.2"
  },
  "orig_nbformat": 4,
  "vscode": {
   "interpreter": {
    "hash": "f2a1d822506b7b3721e19019d21f35b953f01c40f61202c4c3e001e38260f7cb"
   }
  }
 },
 "nbformat": 4,
 "nbformat_minor": 2
}
