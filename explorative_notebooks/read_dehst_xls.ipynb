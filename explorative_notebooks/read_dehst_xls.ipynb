{
 "cells": [
  {
   "cell_type": "markdown",
   "metadata": {},
   "source": [
    "# Description\n",
    "In this notebook methods to find the ags for factories.\n",
    "\n",
    "# OpenToDos:\n",
    "- What to do with AGS = DG00000?"
   ]
  },
  {
   "cell_type": "code",
   "execution_count": null,
   "metadata": {},
   "outputs": [],
   "source": [
    "import pandas as pd\n",
    "import numpy as np"
   ]
  },
  {
   "cell_type": "markdown",
   "metadata": {},
   "source": [
    "# Load data"
   ]
  },
  {
   "cell_type": "code",
   "execution_count": null,
   "metadata": {},
   "outputs": [],
   "source": [
    "def add_zeros(ags):\n",
    "    ags = str(ags)\n",
    "    length_ags = len(ags)\n",
    "    if length_ags < 8:\n",
    "        ags = \"0\" * (8 - length_ags) + ags\n",
    "    return ags\n",
    "\n",
    "\n",
    "df_ags = pd.read_csv(\"../data/public/ags/master.csv\")\n",
    "\n",
    "df_anlagen = pd.read_excel(\n",
    "    \"Anlagenliste_2018_DEHST.xlsx\",\n",
    "    sheet_name=\"Anlagen_Liste\",\n",
    "    decimal=\",\",\n",
    "    thousands=\".\",\n",
    "    converters={\"Bundesland\": str, \"AGS_manual\": str, \"VET 2018 [t CO2 Äq]\": float},\n",
    ")\n",
    "\n",
    "df_anlagen.rename(\n",
    "    columns={\n",
    "        \"Standort der Anlage\": \"Ort\",\n",
    "        \"AGS\": \"AGS_xls\",\n",
    "        \"VET 2018 [t CO2 Äq]\": \"VET2018_t\",\n",
    "        \"Haupttätigkeit nach TEHG\": \"TEHG_Nr\",\n",
    "        \"Bezeichnung Haupttätigkeit nach TEHG\": \"TEHG_name\",\n",
    "    },\n",
    "    inplace=True,\n",
    ")\n",
    "# df_anlagen[\"AGS_manual\"] = df_anlagen[\"AGS_manual\"].apply(add_zeros)\n",
    "df_anlagen.drop(\n",
    "    columns=[\n",
    "        \"Prüfsumme\",\n",
    "    ],\n",
    "    inplace=True,\n",
    ")\n",
    "df_anlagen.dropna(subset=[\"NACE WZ2008\"], inplace=True)\n"
   ]
  },
  {
   "cell_type": "markdown",
   "metadata": {},
   "source": [
    "# Data Processing\n",
    "## Add industrie cateogires to facilities\n",
    "Look at [Sharepoint](https://germanzero.sharepoint.com/:w:/r/Files/200_Campaigning_Mobilisierung/10_Klimaentscheide/06_LocalZero/03_Generator/20_KStP-Generator_v2/30_Industrie/70_Kommunenfeine_Bilanz/22-07-14_Methodischer%20Ansatz%20kommunenfeine%20Industrie.docx?d=wd6874aa0f4f944e19c6a29dda796c406&csf=1&web=1&e=SnSbBP) for further information about Nace"
   ]
  },
  {
   "cell_type": "code",
   "execution_count": null,
   "metadata": {},
   "outputs": [],
   "source": [
    "# only usable for 2018 VET as not all NACE identifiers are added (only the ones present in the excel sheet)\n",
    "mapper_nace_wz = {\n",
    "    \"miner_cement\": [\"23.51\"],\n",
    "    \"miner_chalk\": [\"23.52\", \"23.62\"],\n",
    "    \"miner_glas\": [\"23.1\", \"23.99\"],\n",
    "    \"miner_ceram\": [\"23.2\", \"23.3\", \"23.4\"],\n",
    "    \"chem_basic\": [\"20.11\", \"20.12\", \"20.13\", \"20.14\", \"20.16\"],\n",
    "    \"chem_ammonia\": [\"20.15\"],\n",
    "    \"chem_other\": [\"20.2\", \"20.3\", \"20.4\", \"20.5\", \"20.6\", \"21.\"],\n",
    "    \"metal_steel\": [\"24.1\"], # primary and secondary is sorted by cities later\n",
    "    \"metal_nonfe\": [\n",
    "        \"24.4\", \"24.5\"\n",
    "    ],\n",
    "    \"other_paper\": [\"17.\"],\n",
    "    \"other_food\": [\"10.8\", \"10.6\",\"10.5\", \"10.4\", \"10.3\", \"11.05\", \"12.00\"],\n",
    "    \"other_further\": [\"8.\", \"22.\", \"24.2\", \"24.3\", \"25.\", \"28.1\", \"29.\", \"30.\"],\n",
    "}\n"
   ]
  },
  {
   "cell_type": "code",
   "execution_count": null,
   "metadata": {},
   "outputs": [],
   "source": [
    "df_anlagen[\"i_category\"] = \"No category\"\n",
    "for key, item in mapper_nace_wz.items():\n",
    "    if len(item) > 0:\n",
    "        for name in item:\n",
    "            df_anlagen.loc[df_anlagen[\"NACE WZ2008\"].str.contains(name), \"i_category\"] = key"
   ]
  },
  {
   "cell_type": "markdown",
   "metadata": {},
   "source": [
    "## Select \"Anlagen\" from industry"
   ]
  },
  {
   "cell_type": "code",
   "execution_count": null,
   "metadata": {},
   "outputs": [],
   "source": [
    "df_anlagen.groupby(\"i_category\")[\"VET2018_t\"].sum().sort_values(ascending=False)"
   ]
  },
  {
   "cell_type": "code",
   "execution_count": null,
   "metadata": {},
   "outputs": [],
   "source": [
    "df_anlagen = df_anlagen[df_anlagen[\"i_category\"] != \"No category\"]"
   ]
  },
  {
   "cell_type": "code",
   "execution_count": null,
   "metadata": {},
   "outputs": [],
   "source": [
    "print(f\"{len(df_anlagen)} selected\")"
   ]
  },
  {
   "cell_type": "markdown",
   "metadata": {},
   "source": [
    "## Add state information to df_ags"
   ]
  },
  {
   "cell_type": "code",
   "execution_count": null,
   "metadata": {},
   "outputs": [],
   "source": [
    "ags_to_state = {\n",
    "    \"01\" : \"SH\",\n",
    "    \"02\" : \"HH\",\n",
    "    \"03\" : \"NI\",\n",
    "    \"04\" : \"HB\",\n",
    "    \"05\" : \"NW\",\n",
    "    \"06\" : \"HE\",\n",
    "    \"07\" : \"RP\",\n",
    "    \"08\" : \"BW\",\n",
    "    \"09\" : \"BY\",\n",
    "    \"10\" : \"SL\",\n",
    "    \"11\" : \"BE\",\n",
    "    \"12\" : \"BB\",\n",
    "    \"13\" : \"MV\",\n",
    "    \"14\" : \"SN\",\n",
    "    \"15\" : \"ST\",\n",
    "    \"16\" : \"TH\"\n",
    "}"
   ]
  },
  {
   "cell_type": "code",
   "execution_count": null,
   "metadata": {},
   "outputs": [],
   "source": [
    "df_ags[\"ags_state_digits\"] = [x[:2] for x in df_ags[\"ags\"]]\n",
    "df_ags[\"state\"] = df_ags[\"ags_state_digits\"].map(ags_to_state)"
   ]
  },
  {
   "cell_type": "markdown",
   "metadata": {},
   "source": [
    "## Remove not necessary parts of the Names in AGS"
   ]
  },
  {
   "cell_type": "code",
   "execution_count": null,
   "metadata": {},
   "outputs": [],
   "source": [
    "# remove \" , Stadt\"\n",
    "df_ags[\"name\"] = df_ags[\"description\"].str.split(\",\").str[0]\n",
    "# df_ags.to_csv(\"temp_python_export_ags_list.csv\", index=False)"
   ]
  },
  {
   "cell_type": "markdown",
   "metadata": {},
   "source": [
    "## Select duplicates in AGS List (column: \"description\")"
   ]
  },
  {
   "cell_type": "code",
   "execution_count": null,
   "metadata": {},
   "outputs": [],
   "source": [
    "df_ags_duplicates = df_ags[df_ags.duplicated(subset=\"name\", keep=False)]\n",
    "df_ags_duplicates = df_ags_duplicates.sort_values(\"name\")\n",
    "df_ags_no_duplicates = df_ags.drop_duplicates(subset=\"name\", keep=False)"
   ]
  },
  {
   "cell_type": "code",
   "execution_count": null,
   "metadata": {},
   "outputs": [],
   "source": [
    "n = 0\n",
    "mask_duplicates_state_unique = [False] * len(df_ags_duplicates)\n",
    "while True:\n",
    "    row = df_ags_duplicates.iloc[n]\n",
    "    ort_count = df_ags_duplicates[df_ags_duplicates[\"name\"] == row[\"name\"]].shape[0]\n",
    "\n",
    "    if ort_count ==2:\n",
    "        if row[\"state\"] != df_ags_duplicates.iloc[n + 1][\"state\"]:\n",
    "            mask_duplicates_state_unique[n] = True\n",
    "            mask_duplicates_state_unique[n + 1] = True\n",
    "\n",
    "    elif ort_count ==3:\n",
    "        if (\n",
    "            (row[\"state\"] != df_ags_duplicates.iloc[n + 1][\"state\"])\n",
    "            & (\n",
    "                row[\"state\"]\n",
    "                != df_ags_duplicates.loc[:, \"state\"].iloc[n + 2]\n",
    "            )\n",
    "            & (\n",
    "                df_ags_duplicates.loc[:, \"state\"].iloc[n + 1]\n",
    "                != df_ags_duplicates.loc[:, \"state\"].iloc[n + 2]\n",
    "            )\n",
    "        ):\n",
    "            mask_duplicates_state_unique[n] = True\n",
    "            mask_duplicates_state_unique[n + 1] = True\n",
    "            mask_duplicates_state_unique[n + 2] = True\n",
    "\n",
    "    n += ort_count\n",
    "    if n >= len(df_ags_duplicates):\n",
    "        break"
   ]
  },
  {
   "cell_type": "code",
   "execution_count": null,
   "metadata": {},
   "outputs": [],
   "source": [
    "df_ags_duplicates_state_unique = df_ags_duplicates[mask_duplicates_state_unique]"
   ]
  },
  {
   "cell_type": "markdown",
   "metadata": {},
   "source": [
    "# Find AGS for \"Ort\""
   ]
  },
  {
   "cell_type": "code",
   "execution_count": null,
   "metadata": {},
   "outputs": [],
   "source": [
    "df_anlagen"
   ]
  },
  {
   "cell_type": "code",
   "execution_count": null,
   "metadata": {},
   "outputs": [],
   "source": [
    "for index, row in df_anlagen.iterrows():\n",
    "    state_anlage = row.loc[\"Bundesland\"]\n",
    "    location_anlage = row.loc[\"Ort\"]\n",
    "    if ~df_anlagen.loc[:,\"AGS_manual\"].isna().loc[index]:\n",
    "        df_anlagen.loc[index, \"AGS\"] = df_anlagen.loc[index, \"AGS_manual\"]\n",
    "        df_anlagen.loc[index, \"match_type\"] = \"manual_entry\"\n",
    "    else:\n",
    "        temp_ags_match = df_ags_no_duplicates.loc[(df_ags_no_duplicates[\"name\"] == location_anlage)]\n",
    "        # select entries with only one match\n",
    "        if temp_ags_match.shape[0] == 1:\n",
    "            if temp_ags_match[\"state\"].values[0] == state_anlage:\n",
    "                df_anlagen.loc[index, \"AGS\"] = temp_ags_match[\"ags\"].values[0]\n",
    "                df_anlagen.loc[index, \"match_type\"] = \"direct\"\n",
    "\n",
    "        temp_ags_match_dup = df_ags_duplicates_state_unique.loc[(df_ags_duplicates_state_unique[\"name\"] == location_anlage)]\n",
    "        if temp_ags_match_dup.shape[0] == 1:\n",
    "            raise ValueError(\"Duplication selection wrong. Single entry found in AGS list\")\n",
    "        elif temp_ags_match_dup.shape[0] > 1:\n",
    "            for index_match, match in temp_ags_match_dup.iterrows():\n",
    "                if match[\"state\"] == state_anlage:\n",
    "                    df_anlagen.loc[index, \"AGS\"] = match[\"ags\"]\n",
    "                    df_anlagen.loc[index, \"match_type\"] = \"dublicate_match_state_unique\""
   ]
  },
  {
   "cell_type": "code",
   "execution_count": null,
   "metadata": {},
   "outputs": [],
   "source": [
    "\n",
    "for index, row in df_anlagen[df_anlagen[\"match_type\"].isna()].iterrows():\n",
    "    state_anlage = row.loc[\"Bundesland\"]\n",
    "    location_anlage = row.loc[\"Ort\"]\n",
    "    temp_ags_match = df_ags_no_duplicates[df_ags_no_duplicates[\"name\"].str.startswith(location_anlage) == True]\n",
    "    if temp_ags_match.shape[0] == 1:\n",
    "        if temp_ags_match[\"state\"].values[0] == state_anlage:\n",
    "            df_anlagen.loc[index, \"AGS\"] = temp_ags_match[\"ags\"].values[0]\n",
    "            df_anlagen.loc[index, \"match_type\"] = \"starts_with_only_one_match\""
   ]
  },
  {
   "cell_type": "code",
   "execution_count": null,
   "metadata": {},
   "outputs": [],
   "source": [
    "df_anlagen[\"match_type\"].value_counts(dropna=False)"
   ]
  },
  {
   "cell_type": "code",
   "execution_count": null,
   "metadata": {},
   "outputs": [],
   "source": [
    "df_anlagen[pd.isna(df_anlagen[\"match_type\"])]"
   ]
  },
  {
   "cell_type": "code",
   "execution_count": null,
   "metadata": {},
   "outputs": [],
   "source": [
    "df_anlagen.to_csv(\"export_anlagen_with_ags.csv\")"
   ]
  },
  {
   "cell_type": "code",
   "execution_count": null,
   "metadata": {},
   "outputs": [],
   "source": [
    "df_anlagen[pd.isna(df_anlagen[\"match_type\"])].to_csv(\"anlagen_nan_ags.csv\")"
   ]
  },
  {
   "cell_type": "code",
   "execution_count": null,
   "metadata": {},
   "outputs": [],
   "source": [
    "temp =df_anlagen[df_anlagen[\"match_type\"].isna()]"
   ]
  },
  {
   "cell_type": "code",
   "execution_count": null,
   "metadata": {},
   "outputs": [],
   "source": [
    "temp.groupby(\"i_category\")[\"VET2018_t\"].sum()"
   ]
  },
  {
   "cell_type": "code",
   "execution_count": null,
   "metadata": {},
   "outputs": [],
   "source": [
    "df_anlagen.groupby(\"i_category\")[\"VET2018_t\"].sum()"
   ]
  },
  {
   "cell_type": "markdown",
   "metadata": {},
   "source": [
    "## Find steel plants and categroize to primal and secondary\n",
    "\n",
    "TODO"
   ]
  },
  {
   "cell_type": "code",
   "execution_count": null,
   "metadata": {},
   "outputs": [],
   "source": [
    "df_anlagen[df_anlagen[\"i_category\"] == \"metal_steel\"]"
   ]
  },
  {
   "cell_type": "code",
   "execution_count": null,
   "metadata": {},
   "outputs": [],
   "source": []
  }
 ],
 "metadata": {
  "kernelspec": {
   "display_name": "gz_project",
   "language": "python",
   "name": "gz_project"
  },
  "language_info": {
   "codemirror_mode": {
    "name": "ipython",
    "version": 3
   },
   "file_extension": ".py",
   "mimetype": "text/x-python",
   "name": "python",
   "nbconvert_exporter": "python",
   "pygments_lexer": "ipython3",
   "version": "3.9.5"
  },
  "orig_nbformat": 4,
  "vscode": {
   "interpreter": {
    "hash": "3bdd72e345a87ddc608f1295a654742b08b54562db5705725dd35bdf4ee52407"
   }
  }
 },
 "nbformat": 4,
 "nbformat_minor": 2
}
