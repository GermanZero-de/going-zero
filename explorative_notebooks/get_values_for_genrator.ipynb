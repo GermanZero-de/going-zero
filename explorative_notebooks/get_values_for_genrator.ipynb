{
 "cells": [
  {
   "cell_type": "code",
   "execution_count": null,
   "metadata": {},
   "outputs": [],
   "source": [
    "import pandas as pd\n",
    "import numpy as np"
   ]
  },
  {
   "cell_type": "code",
   "execution_count": null,
   "metadata": {},
   "outputs": [],
   "source": [
    "df_inputs = pd.read_csv(\"industry_ags_match_reduced_export.csv\")\n",
    "df_i18_factors = pd.read_csv(\"i18_ratio_x_to_co2e_total.csv\")\n",
    "df_factors_nir = pd.read_csv(\"compare_excel_dehst.csv\")"
   ]
  },
  {
   "cell_type": "code",
   "execution_count": null,
   "metadata": {},
   "outputs": [],
   "source": [
    "ags = 10044111"
   ]
  },
  {
   "cell_type": "code",
   "execution_count": null,
   "metadata": {},
   "outputs": [],
   "source": [
    "emissions_grouped = df_inputs[df_inputs[\"AGS\"].isin([ags])].groupby(\"i_category\")[\"VET2018_t\"]\n",
    "print(pd.concat([emissions_grouped.sum(), emissions_grouped.count()], axis=1))\n",
    "for cat, value in emissions_grouped.sum().items():\n",
    "    factor = df_factors_nir[df_factors_nir[\"cat\"] == cat][\"DEHST/NIR\"].values[0]\n",
    "        # add exception if len > 1\n",
    "    co2e_total_corrected = value / factor\n",
    "    print(cat, value, co2e_total_corrected)"
   ]
  },
  {
   "cell_type": "code",
   "execution_count": null,
   "metadata": {},
   "outputs": [],
   "source": [
    "df_i18_factors"
   ]
  },
  {
   "cell_type": "code",
   "execution_count": null,
   "metadata": {},
   "outputs": [],
   "source": []
  }
 ],
 "metadata": {
  "kernelspec": {
   "display_name": "gz_project",
   "language": "python",
   "name": "gz_project"
  },
  "language_info": {
   "codemirror_mode": {
    "name": "ipython",
    "version": 3
   },
   "file_extension": ".py",
   "mimetype": "text/x-python",
   "name": "python",
   "nbconvert_exporter": "python",
   "pygments_lexer": "ipython3",
   "version": "3.10.8 (tags/v3.10.8:aaaf517, Oct 11 2022, 16:50:30) [MSC v.1933 64 bit (AMD64)]"
  },
  "orig_nbformat": 4,
  "vscode": {
   "interpreter": {
    "hash": "3bdd72e345a87ddc608f1295a654742b08b54562db5705725dd35bdf4ee52407"
   }
  }
 },
 "nbformat": 4,
 "nbformat_minor": 2
}
